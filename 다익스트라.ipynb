{
 "cells": [
  {
   "cell_type": "code",
   "execution_count": 14,
   "id": "bbaf5e4d",
   "metadata": {},
   "outputs": [],
   "source": [
    "# 최단경로\n",
    "import sys\n",
    "#플로이드 와샬 알고리즘\n",
    "\n",
    "def 플로이드_와샬_알고리즘(n):  \n",
    "    values = [2**31-1 for i in range(n)]\n",
    "    visited = [False for i in range(n)]\n",
    "    \n",
    "    start = 0\n",
    "    visited[start] = True\n",
    "    values[start] = 0\n",
    "    while False in visited:\n",
    "        for i in costs:\n",
    "            if(visited[i[1]] == False and i[0]==start):\n",
    "                values[i[1]] =min(values[i[1]], i[2])\n",
    "            if(visited[i[0]] == False and i[1]==start):\n",
    "                values[i[0]] =min(values[i[0]], i[2])\n",
    "        refer = 2**31-1\n",
    "        for i in range(n):\n",
    "            if(visited[i] == False and values[i]!=0):\n",
    "                refer = min(refer,values[i])\n",
    "        answer = answer + refer\n",
    "        for i in range(n):\n",
    "            for i in range(n):\n",
    "                if(visited[i] == False and values[i]==refer):\n",
    "                    visited[i]=True\n",
    "                    start=i\n",
    "                    break\n",
    "                     "
   ]
  },
  {
   "cell_type": "code",
   "execution_count": 17,
   "id": "6487c802",
   "metadata": {},
   "outputs": [
    {
     "ename": "IndexError",
     "evalue": "string index out of range",
     "output_type": "error",
     "traceback": [
      "\u001b[1;31m---------------------------------------------------------------------------\u001b[0m",
      "\u001b[1;31mIndexError\u001b[0m                                Traceback (most recent call last)",
      "\u001b[1;32m~\\AppData\\Local\\Temp/ipykernel_14896/3781483524.py\u001b[0m in \u001b[0;36m<module>\u001b[1;34m\u001b[0m\n\u001b[1;32m----> 1\u001b[1;33m \u001b[0m플로이드_와샬_알고리즘\u001b[0m\u001b[1;33m(\u001b[0m\u001b[1;36m5\u001b[0m\u001b[1;33m,\u001b[0m\u001b[1;34m'2'\u001b[0m\u001b[1;33m)\u001b[0m\u001b[1;33m\u001b[0m\u001b[1;33m\u001b[0m\u001b[0m\n\u001b[0m",
      "\u001b[1;32m~\\AppData\\Local\\Temp/ipykernel_14896/3230074043.py\u001b[0m in \u001b[0;36m플로이드_와샬_알고리즘\u001b[1;34m(n, costs)\u001b[0m\n\u001b[0;32m     12\u001b[0m     \u001b[1;32mwhile\u001b[0m \u001b[1;32mFalse\u001b[0m \u001b[1;32min\u001b[0m \u001b[0mvisited\u001b[0m\u001b[1;33m:\u001b[0m\u001b[1;33m\u001b[0m\u001b[1;33m\u001b[0m\u001b[0m\n\u001b[0;32m     13\u001b[0m         \u001b[1;32mfor\u001b[0m \u001b[0mi\u001b[0m \u001b[1;32min\u001b[0m \u001b[0mcosts\u001b[0m\u001b[1;33m:\u001b[0m\u001b[1;33m\u001b[0m\u001b[1;33m\u001b[0m\u001b[0m\n\u001b[1;32m---> 14\u001b[1;33m             \u001b[1;32mif\u001b[0m\u001b[1;33m(\u001b[0m\u001b[0mvisited\u001b[0m\u001b[1;33m[\u001b[0m\u001b[0mi\u001b[0m\u001b[1;33m[\u001b[0m\u001b[1;36m1\u001b[0m\u001b[1;33m]\u001b[0m\u001b[1;33m]\u001b[0m \u001b[1;33m==\u001b[0m \u001b[1;32mFalse\u001b[0m \u001b[1;32mand\u001b[0m \u001b[0mi\u001b[0m\u001b[1;33m[\u001b[0m\u001b[1;36m0\u001b[0m\u001b[1;33m]\u001b[0m\u001b[1;33m==\u001b[0m\u001b[0mstart\u001b[0m\u001b[1;33m)\u001b[0m\u001b[1;33m:\u001b[0m\u001b[1;33m\u001b[0m\u001b[1;33m\u001b[0m\u001b[0m\n\u001b[0m\u001b[0;32m     15\u001b[0m                 \u001b[0mvalues\u001b[0m\u001b[1;33m[\u001b[0m\u001b[0mi\u001b[0m\u001b[1;33m[\u001b[0m\u001b[1;36m1\u001b[0m\u001b[1;33m]\u001b[0m\u001b[1;33m]\u001b[0m \u001b[1;33m=\u001b[0m\u001b[0mmin\u001b[0m\u001b[1;33m(\u001b[0m\u001b[0mvalues\u001b[0m\u001b[1;33m[\u001b[0m\u001b[0mi\u001b[0m\u001b[1;33m[\u001b[0m\u001b[1;36m1\u001b[0m\u001b[1;33m]\u001b[0m\u001b[1;33m]\u001b[0m\u001b[1;33m,\u001b[0m \u001b[0mi\u001b[0m\u001b[1;33m[\u001b[0m\u001b[1;36m2\u001b[0m\u001b[1;33m]\u001b[0m\u001b[1;33m)\u001b[0m\u001b[1;33m\u001b[0m\u001b[1;33m\u001b[0m\u001b[0m\n\u001b[0;32m     16\u001b[0m             \u001b[1;32mif\u001b[0m\u001b[1;33m(\u001b[0m\u001b[0mvisited\u001b[0m\u001b[1;33m[\u001b[0m\u001b[0mi\u001b[0m\u001b[1;33m[\u001b[0m\u001b[1;36m0\u001b[0m\u001b[1;33m]\u001b[0m\u001b[1;33m]\u001b[0m \u001b[1;33m==\u001b[0m \u001b[1;32mFalse\u001b[0m \u001b[1;32mand\u001b[0m \u001b[0mi\u001b[0m\u001b[1;33m[\u001b[0m\u001b[1;36m1\u001b[0m\u001b[1;33m]\u001b[0m\u001b[1;33m==\u001b[0m\u001b[0mstart\u001b[0m\u001b[1;33m)\u001b[0m\u001b[1;33m:\u001b[0m\u001b[1;33m\u001b[0m\u001b[1;33m\u001b[0m\u001b[0m\n",
      "\u001b[1;31mIndexError\u001b[0m: string index out of range"
     ]
    }
   ],
   "source": [
    "플로이드_와샬_알고리즘(5)"
   ]
  },
  {
   "cell_type": "code",
   "execution_count": 13,
   "id": "e2c08bfd",
   "metadata": {},
   "outputs": [],
   "source": [
    "#다익스트라 알고리즘\n",
    "def 다익스트라(n):\n",
    "    visited = [False for _ in range(n)]\n",
    "    cost = [sys.maxsize for _ in range(n)]\n",
    "    visited[0] = True\n",
    "    cost[0] = 0\n",
    "    length = len(visited)\n",
    "    while False in visited:\n",
    "        checkLoc = -1\n",
    "        checkValue = sys.maxsize\n",
    "        for i in range(length):\n",
    "            if visited[i]==False and cost[i] < checkValue:\n",
    "                checkLoc = i\n",
    "                checkValue = cost[i]\n",
    "        if checkLoc == -1:\n",
    "            break\n",
    "        visited[checkLoc] = True\n",
    "        for v1,v2,c in costs:\n",
    "            if v1 == checkLoc and visited[v2] == False:\n",
    "                cost[v2] == min(cost[v2], cost[v1] + c)\n",
    "            if v2 == checkLoc and visited[v1] == False:\n",
    "                cost[v1] = min(cost[v1], costp[v2]+c)\n",
    "    "
   ]
  },
  {
   "cell_type": "code",
   "execution_count": null,
   "id": "15fdc59c",
   "metadata": {},
   "outputs": [],
   "source": []
  }
 ],
 "metadata": {
  "kernelspec": {
   "display_name": "Python 3 (ipykernel)",
   "language": "python",
   "name": "python3"
  },
  "language_info": {
   "codemirror_mode": {
    "name": "ipython",
    "version": 3
   },
   "file_extension": ".py",
   "mimetype": "text/x-python",
   "name": "python",
   "nbconvert_exporter": "python",
   "pygments_lexer": "ipython3",
   "version": "3.8.8"
  }
 },
 "nbformat": 4,
 "nbformat_minor": 5
}
