{
 "cells": [
  {
   "cell_type": "code",
   "execution_count": 522,
   "id": "b746ba06",
   "metadata": {},
   "outputs": [],
   "source": [
    "while len(stack)>0:\n",
    "    \n",
    "    now = stack.pop()\n",
    "    if now == dest:\n",
    "        return True\n",
    "    x = now[1]\n",
    "    y = now[0]\n",
    "    if x - 1 > -1:\n",
    "        if maps[y][x-1] == 0:\n",
    "            stack.append([y,x-1])\n",
    "            maps[y,x-1] = 2\n",
    "    if x + 1 < hori:\n",
    "        if maps[y][x-1]==1:\n",
    "            stack.append([y,x+1])\n",
    "            maps[y,x+1] = 2\n",
    "    if y - 1 > -1:\n",
    "        if maps[y-1][x] == 1:\n",
    "            stack.append([y-1,x])\n",
    "            maps[y-1,x] = 2\n",
    "    if y + 1 < verti:\n",
    "        if maps[y+1][x]==1:\n",
    "            stack.append([y+1,x])\n",
    "            maps[y+1][x]=2\n",
    "return False"
   ]
  },
  {
   "cell_type": "code",
   "execution_count": 193,
   "id": "4840ba11",
   "metadata": {},
   "outputs": [
    {
     "data": {
      "text/plain": [
       "0"
      ]
     },
     "execution_count": 193,
     "metadata": {},
     "output_type": "execute_result"
    }
   ],
   "source": [
    "a[0][0]"
   ]
  },
  {
   "cell_type": "code",
   "execution_count": 194,
   "id": "859f5781",
   "metadata": {},
   "outputs": [],
   "source": [
    "stack = []"
   ]
  },
  {
   "cell_type": "code",
   "execution_count": 195,
   "id": "2267c41c",
   "metadata": {},
   "outputs": [],
   "source": [
    "stack.append(a[0][0])"
   ]
  },
  {
   "cell_type": "code",
   "execution_count": 196,
   "id": "30904fef",
   "metadata": {},
   "outputs": [
    {
     "data": {
      "text/plain": [
       "[0]"
      ]
     },
     "execution_count": 196,
     "metadata": {},
     "output_type": "execute_result"
    }
   ],
   "source": [
    "stack"
   ]
  },
  {
   "cell_type": "code",
   "execution_count": 197,
   "id": "46920aef",
   "metadata": {},
   "outputs": [],
   "source": [
    "dest = maps[5,5]\n",
    "hori = -1\n",
    "verti = -1"
   ]
  },
  {
   "cell_type": "code",
   "execution_count": 198,
   "id": "aa3eceb8",
   "metadata": {},
   "outputs": [
    {
     "name": "stdout",
     "output_type": "stream",
     "text": [
      "2stack[[2, 0]] now0 x1 y2\n",
      "6stack[[2, 0]] now0 x1 y2\n"
     ]
    },
    {
     "ename": "ValueError",
     "evalue": "The truth value of an array with more than one element is ambiguous. Use a.any() or a.all()",
     "output_type": "error",
     "traceback": [
      "\u001b[1;31m---------------------------------------------------------------------------\u001b[0m",
      "\u001b[1;31mValueError\u001b[0m                                Traceback (most recent call last)",
      "\u001b[1;32m<ipython-input-198-7c144645316d>\u001b[0m in \u001b[0;36m<module>\u001b[1;34m\u001b[0m\n\u001b[0;32m      3\u001b[0m \u001b[1;33m\u001b[0m\u001b[0m\n\u001b[0;32m      4\u001b[0m     \u001b[0mnow\u001b[0m \u001b[1;33m=\u001b[0m \u001b[0mstack\u001b[0m\u001b[1;33m.\u001b[0m\u001b[0mpop\u001b[0m\u001b[1;33m(\u001b[0m\u001b[1;33m)\u001b[0m\u001b[1;33m\u001b[0m\u001b[1;33m\u001b[0m\u001b[0m\n\u001b[1;32m----> 5\u001b[1;33m     \u001b[1;32mif\u001b[0m \u001b[0mnow\u001b[0m \u001b[1;33m==\u001b[0m \u001b[0mdest\u001b[0m\u001b[1;33m:\u001b[0m\u001b[1;33m\u001b[0m\u001b[1;33m\u001b[0m\u001b[0m\n\u001b[0m\u001b[0;32m      6\u001b[0m \u001b[1;33m\u001b[0m\u001b[0m\n\u001b[0;32m      7\u001b[0m         \u001b[0mprint\u001b[0m\u001b[1;33m(\u001b[0m\u001b[1;32mTrue\u001b[0m\u001b[1;33m)\u001b[0m\u001b[1;33m\u001b[0m\u001b[1;33m\u001b[0m\u001b[0m\n",
      "\u001b[1;31mValueError\u001b[0m: The truth value of an array with more than one element is ambiguous. Use a.any() or a.all()"
     ]
    }
   ],
   "source": [
    "# while len(stack)>0:\n",
    "for _ in range(2):\n",
    "          \n",
    "    now = stack.pop()\n",
    "    if now == dest:\n",
    "        \n",
    "        print(True)\n",
    "        x = now[0]\n",
    "        y = now[0]\n",
    "        print(f'1stack{stack} now{now} x{x} y{y}')   \n",
    "    if x - 1 > -1:\n",
    "        if maps[x][y-1] == 0:\n",
    "            stack.append([y,x-1])\n",
    "            maps[x,y-1] = 2\n",
    "            print(f'2stack{stack} now{now} x{x} y{y}') \n",
    "    if x + 1 < hori:\n",
    "        if maps[x][y-1]==1:\n",
    "            stack.append([y,x+1])\n",
    "            maps[x,y+1] = 2\n",
    "            print(f'3stack{stack} now{now} x{x} y{y}') \n",
    "    if y - 1 > -1:\n",
    "        if maps[x-1][y] == 1:\n",
    "            stack.append([y-1,x])\n",
    "            maps[-1,y] = 2\n",
    "            print(f'4stack{stack} now{now} x{x} y{y}') \n",
    "    if y + 1 < verti:\n",
    "        if maps[x+1][y]==1:\n",
    "            stack.append([y+1,x])\n",
    "            maps[x+1][y]=2\n",
    "            print(f'5stack{stack} now{now} x{x} y{y}') \n",
    "    print(f'6stack{stack} now{now} x{x} y{y}')       \n",
    "print(False)"
   ]
  },
  {
   "cell_type": "markdown",
   "id": "47d1a608",
   "metadata": {},
   "source": [
    "위는 배운 코드를 그냥 그대로 적용해보려고 print한 흔적들이다."
   ]
  },
  {
   "cell_type": "markdown",
   "id": "c25f54d6",
   "metadata": {},
   "source": [
    "지금은 해결하고 나서 작성중이다. <br>\n",
    "처음에 배울때는 이해가 가지안아서 내 나름대로 문제를 이해하고 쉽게 만들어 보았다. 하지만<br>\n",
    "완전탐색에 가깝기 때문에 만족스럽지 안았다.<br>\n",
    "그래서 배운 코드를 가지고 구현해보기로 한다.<br>\n",
    "\n",
    "먼저 문제를 봤을때 어딘가 이해가 확실히 들지 않았다.<br>\n",
    "예를 들어 <font color=red>갈 수 있는 길</font>은 \"0\" 이고 <font color=blue>갈 수 없는 길</font>은\"1\"이라고 할때 <br>\n",
    "두번째 if문의 maps[y][x-1] == 0: 과 그다음 if 문부터 1이였을때 즉, 막혔을때 stack하여라가 <font color=red>오류</font>였다. \n",
    "그래서 하나하나 뜯어가면서 다시 작성했다.<br>"
   ]
  },
  {
   "cell_type": "code",
   "execution_count": 715,
   "id": "ed04797f",
   "metadata": {},
   "outputs": [],
   "source": [
    "#먼저 지도를 만들었다. 수작업이다"
   ]
  },
  {
   "cell_type": "code",
   "execution_count": 716,
   "id": "60be657b",
   "metadata": {
    "scrolled": true
   },
   "outputs": [
    {
     "data": {
      "text/plain": [
       "array([[0, 0, 0, 0, 0, 0],\n",
       "       [1, 0, 1, 1, 1, 0],\n",
       "       [0, 0, 1, 0, 1, 0],\n",
       "       [0, 1, 1, 0, 0, 0],\n",
       "       [0, 0, 1, 1, 1, 1],\n",
       "       [1, 0, 0, 0, 0, 0]])"
      ]
     },
     "execution_count": 716,
     "metadata": {},
     "output_type": "execute_result"
    }
   ],
   "source": [
    "import numpy as np\n",
    "\n",
    "# np.ones_like\n",
    "# np.ones((2,3,4),dtype=np.int16)\n",
    "# np.full((2,2),6)\n",
    "# np.eye(4)\n",
    "#\n",
    "#\n",
    "#\n",
    "\n",
    "maps = np.arange(1,37).reshape(6,6)\n",
    "maps\n",
    "\n",
    "maps[:]=0\n",
    "maps\n",
    "\n",
    "maps[0] = 0 \n",
    "maps[1,0] = 1\n",
    "maps[1,2] = 1\n",
    "maps[1,3] = 1 \n",
    "maps[1,4] = 1\n",
    "maps[2,2] = 1\n",
    "maps[2,4] = 1\n",
    "maps[3,1] = 1\n",
    "maps[3,2] = 1\n",
    "maps[4,2] = 1\n",
    "maps[4,3] = 1 \n",
    "maps[4,4] = 1\n",
    "maps[4,5] = 1\n",
    "maps[5,0] = 1\n",
    "\n",
    "\n",
    "\n",
    "#미로랑 같아짐\n",
    "maps"
   ]
  },
  {
   "cell_type": "markdown",
   "id": "42542730",
   "metadata": {},
   "source": [
    "# 벽을 설정해준다.\n",
    "왼쪽벽 : y는 -1이되면 안된다.<br>\n",
    "위쪽벽 : x 는 -1이되면 안된다.<br>\n",
    "오른쪽벽: y 는 6 보다 작아야한다.<br>\n",
    "아래쪽벽: x는 6 보다 작아야한다.<br>"
   ]
  },
  {
   "cell_type": "markdown",
   "id": "bab30a5f",
   "metadata": {},
   "source": [
    "# 이동경로를 설정해준다.\n",
    "갈 수 있는 길 = 0<br>\n",
    "갈 수 없는 길 = 1<br>\n",
    "왔던길 = 2<br>\n",
    "처음시작 = [0,0]<br>\n",
    "destination = [5,5] 도착<br>\n"
   ]
  },
  {
   "cell_type": "markdown",
   "id": "064f7749",
   "metadata": {},
   "source": [
    "### 담을 곳을 만들어준다.\n",
    "Stack = []<br>"
   ]
  },
  {
   "cell_type": "markdown",
   "id": "57d1d3fe",
   "metadata": {},
   "source": [
    "### 좌표를 담을 변수를 만들자\n",
    "x = now[0] <br>\n",
    "y = now[1] <br>"
   ]
  },
  {
   "cell_type": "markdown",
   "id": "9d797ca5",
   "metadata": {},
   "source": [
    "### -방향 조건문을 만들자 아래,오른,위,좌 순서로! \n",
    "### -검증은 벽으로통일하는 조건문이 좋겠다."
   ]
  },
  {
   "cell_type": "code",
   "execution_count": 721,
   "id": "b974433c",
   "metadata": {},
   "outputs": [
    {
     "data": {
      "text/plain": [
       "array([[0, 0, 0, 0, 0, 0],\n",
       "       [1, 0, 1, 1, 1, 0],\n",
       "       [0, 0, 1, 0, 1, 0],\n",
       "       [0, 1, 1, 0, 0, 0],\n",
       "       [0, 0, 1, 1, 1, 1],\n",
       "       [1, 0, 0, 0, 0, 0]])"
      ]
     },
     "execution_count": 721,
     "metadata": {},
     "output_type": "execute_result"
    }
   ],
   "source": [
    "# 리셋용 지도\n",
    "import numpy as np\n",
    "\n",
    "maps = np.arange(1,37).reshape(6,6)\n",
    "maps\n",
    "\n",
    "maps[:]=0\n",
    "maps\n",
    "\n",
    "maps[0] = 0 \n",
    "maps[1,0] = 1\n",
    "maps[1,2] = 1\n",
    "maps[1,3] = 1 \n",
    "maps[1,4] = 1\n",
    "maps[2,2] = 1\n",
    "maps[2,4] = 1\n",
    "maps[3,1] = 1\n",
    "maps[3,2] = 1\n",
    "maps[4,2] = 1\n",
    "maps[4,3] = 1 \n",
    "maps[4,4] = 1\n",
    "maps[4,5] = 1\n",
    "maps[5,0] = 1\n",
    "\n",
    "\n",
    "\n",
    "#미로랑 같아짐\n",
    "maps"
   ]
  },
  {
   "cell_type": "code",
   "execution_count": 718,
   "id": "4d876424",
   "metadata": {},
   "outputs": [],
   "source": [
    "def BFS1(stack):\n",
    "    dest = [5,5] #도착정답설정\n",
    "    hori = 6 #수평\n",
    "    verti =6 #수직\n",
    "    \n",
    "    while stack:\n",
    "        print(f'{stack}')\n",
    "        now = stack.pop()\n",
    "        if now == dest:\n",
    "#             print('도착!!!!!!!!!!!') \n",
    "            return True\n",
    "            break\n",
    "        x = now[0]\n",
    "        y = now[1]\n",
    "        if x - 1 > -1:                #위쪽 벽\n",
    "            if maps[x-1][y] == 0:\n",
    "#                 print('위') \n",
    "                stack.append([y,x-1])\n",
    "                maps[x-1,y] = 2\n",
    "        if x + 1 < hori:              #아래쪽 벽\n",
    "            if maps[x+1][y]==0:\n",
    "#                 print('아래')\n",
    "                stack.append([x+1,y])\n",
    "                maps[x+1,y] = 2\n",
    "        if y - 1 > -1:                # 왼쪽 벽\n",
    "            if maps[x][y-1] == 0:\n",
    "#                 print('왼')\n",
    "                stack.append([x,y-1])\n",
    "                maps[x,y-1] = 2\n",
    "        if y + 1 < verti:             # 오른쪽 벽\n",
    "            if maps[x][y+1]==0:\n",
    "#                 print('오른')\n",
    "                stack.append([x,y+1])\n",
    "                maps[x][y+1]=2\n",
    "        \n",
    "            \n",
    "    return False"
   ]
  },
  {
   "cell_type": "code",
   "execution_count": 722,
   "id": "b3494f00",
   "metadata": {},
   "outputs": [],
   "source": [
    "def BFS2(stack):\n",
    "    dest = [5,5] #도착정답설정\n",
    "    hori = 6 #수평\n",
    "    verti =6 #수직\n",
    "    \n",
    "    while stack:\n",
    "#         print(f'{stack}')\n",
    "        now = stack.pop()\n",
    "        if now == dest:\n",
    "            print('도착!!!!!!!!!!!') \n",
    "            return True\n",
    "            break\n",
    "        x = now[0]\n",
    "        y = now[1]\n",
    "        if x - 1 > -1:                #위쪽 벽\n",
    "            if maps[x-1][y] == 0:\n",
    "                print('위') \n",
    "                stack.append([y,x-1])\n",
    "                maps[x-1,y] = 2\n",
    "        if x + 1 < hori:              #아래쪽 벽\n",
    "            if maps[x+1][y]==0:\n",
    "                print('아래')\n",
    "                stack.append([x+1,y])\n",
    "                maps[x+1,y] = 2\n",
    "        if y - 1 > -1:                # 왼쪽 벽\n",
    "            if maps[x][y-1] == 0:\n",
    "                print('왼')\n",
    "                stack.append([x,y-1])\n",
    "                maps[x,y-1] = 2\n",
    "        if y + 1 < verti:             # 오른쪽 벽\n",
    "            if maps[x][y+1]==0:\n",
    "                print('오른')\n",
    "                stack.append([x,y+1])\n",
    "                maps[x][y+1]=2\n",
    "        \n",
    "            \n",
    "    return False"
   ]
  },
  {
   "cell_type": "code",
   "execution_count": 719,
   "id": "676955bd",
   "metadata": {},
   "outputs": [
    {
     "name": "stdout",
     "output_type": "stream",
     "text": [
      "[[0, 0]]\n",
      "[[0, 1]]\n",
      "[[1, 1], [0, 0], [0, 2]]\n",
      "[[1, 1], [0, 0], [0, 3]]\n",
      "[[1, 1], [0, 0], [0, 4]]\n",
      "[[1, 1], [0, 0], [0, 5]]\n",
      "[[1, 1], [0, 0], [1, 5]]\n",
      "[[1, 1], [0, 0], [2, 5]]\n",
      "[[1, 1], [0, 0], [3, 5]]\n",
      "[[1, 1], [0, 0], [3, 4]]\n",
      "[[1, 1], [0, 0], [3, 3]]\n",
      "[[1, 1], [0, 0], [3, 2]]\n",
      "[[1, 1], [0, 0]]\n",
      "[[1, 1]]\n",
      "[[2, 1]]\n",
      "[[2, 0]]\n",
      "[[3, 0]]\n",
      "[[4, 0]]\n",
      "[[4, 1]]\n",
      "[[5, 1]]\n",
      "[[5, 2]]\n",
      "[[5, 3]]\n",
      "[[5, 4]]\n",
      "[[5, 5]]\n"
     ]
    },
    {
     "data": {
      "text/plain": [
       "True"
      ]
     },
     "execution_count": 719,
     "metadata": {},
     "output_type": "execute_result"
    }
   ],
   "source": [
    "#print(stack)\n",
    "stack = [[0,0]] #초기스타트\n",
    "BFS1(stack)"
   ]
  },
  {
   "cell_type": "code",
   "execution_count": 723,
   "id": "23177095",
   "metadata": {},
   "outputs": [
    {
     "name": "stdout",
     "output_type": "stream",
     "text": [
      "오른\n",
      "아래\n",
      "왼\n",
      "오른\n",
      "오른\n",
      "오른\n",
      "오른\n",
      "아래\n",
      "아래\n",
      "아래\n",
      "왼\n",
      "왼\n",
      "위\n",
      "아래\n",
      "왼\n",
      "아래\n",
      "아래\n",
      "오른\n",
      "아래\n",
      "오른\n",
      "오른\n",
      "오른\n",
      "오른\n",
      "도착!!!!!!!!!!!\n"
     ]
    },
    {
     "data": {
      "text/plain": [
       "True"
      ]
     },
     "execution_count": 723,
     "metadata": {},
     "output_type": "execute_result"
    }
   ],
   "source": [
    "#print(위,아래,왼,오른)\n",
    "stack = [[0,0]]\n",
    "BFS2(stack)"
   ]
  },
  {
   "cell_type": "code",
   "execution_count": 724,
   "id": "83f95536",
   "metadata": {},
   "outputs": [
    {
     "data": {
      "text/plain": [
       "True"
      ]
     },
     "execution_count": 724,
     "metadata": {},
     "output_type": "execute_result"
    }
   ],
   "source": [
    "# 비교하면 되는지도 \n",
    "now = [5,5]\n",
    "dest = [5,5]\n",
    "now == dest"
   ]
  },
  {
   "cell_type": "code",
   "execution_count": 714,
   "id": "66e30533",
   "metadata": {},
   "outputs": [
    {
     "data": {
      "text/plain": [
       "array([[2, 2, 2, 2, 2, 2],\n",
       "       [1, 2, 1, 1, 1, 2],\n",
       "       [2, 2, 1, 2, 1, 2],\n",
       "       [2, 1, 1, 2, 2, 2],\n",
       "       [2, 2, 1, 1, 1, 1],\n",
       "       [1, 2, 2, 2, 2, 2]])"
      ]
     },
     "execution_count": 714,
     "metadata": {},
     "output_type": "execute_result"
    }
   ],
   "source": [
    "#지나간자리는 2로 만든 발자국\n",
    "maps"
   ]
  },
  {
   "cell_type": "markdown",
   "id": "f94492d9",
   "metadata": {},
   "source": [
    "# 느낀점"
   ]
  },
  {
   "cell_type": "markdown",
   "id": "8030486c",
   "metadata": {},
   "source": [
    "처음 시작 할 때까지만해도 막막했다.   \n",
    "어디서 부터 고쳐야 할 지 어떻게 설정을 다시해야 할 지 도무지 감이 안왔다.\n",
    "성격상 빠르게 해결하고 싶지만 그렇게되면 멀리 돌아 갈 것 같아서 스스로 다스리고\n",
    "돌아가도 이해하고 넘어가자 라는 생각으로 하나하나 뜯고 보고 맛보고 즐기고 했다.\n",
    "그 과정을 모두 보여드리자면 아래와 같다. 어떻게 바인딩되며 어떻게 결과가 나올지까지 하나하나\n",
    "하다보니 조금씩조금씩 해결이 되어 갔다. 그 과정이 재미가 있어서 시간가는 줄 모르게 집중이되었다.\n",
    "\n",
    "앞으로도 이러한 문제를 해결 할 수 있는 원동력+1 한 것 같아 뿌듯하다"
   ]
  },
  {
   "cell_type": "markdown",
   "id": "2e5db2ea",
   "metadata": {},
   "source": [
    "# 노가다!!!!!!!!!!!!!!!"
   ]
  },
  {
   "cell_type": "code",
   "execution_count": 674,
   "id": "87a97974",
   "metadata": {},
   "outputs": [],
   "source": [
    "stack = [[0,0]] #초기 시작 설정"
   ]
  },
  {
   "cell_type": "code",
   "execution_count": 675,
   "id": "1352a699",
   "metadata": {},
   "outputs": [
    {
     "data": {
      "text/plain": [
       "[0, 0]"
      ]
     },
     "execution_count": 675,
     "metadata": {},
     "output_type": "execute_result"
    }
   ],
   "source": [
    "# 여기서부터 엔터\n",
    "now = stack.pop()\n",
    "now"
   ]
  },
  {
   "cell_type": "code",
   "execution_count": 676,
   "id": "664442b9",
   "metadata": {},
   "outputs": [],
   "source": [
    "x = now[0]\n",
    "y = now[1]"
   ]
  },
  {
   "cell_type": "code",
   "execution_count": 677,
   "id": "60c63e18",
   "metadata": {},
   "outputs": [
    {
     "data": {
      "text/plain": [
       "0"
      ]
     },
     "execution_count": 677,
     "metadata": {},
     "output_type": "execute_result"
    }
   ],
   "source": [
    "y"
   ]
  },
  {
   "cell_type": "code",
   "execution_count": 678,
   "id": "d6015338",
   "metadata": {
    "scrolled": true
   },
   "outputs": [
    {
     "data": {
      "text/plain": [
       "0"
      ]
     },
     "execution_count": 678,
     "metadata": {},
     "output_type": "execute_result"
    }
   ],
   "source": [
    "x"
   ]
  },
  {
   "cell_type": "code",
   "execution_count": 679,
   "id": "70ef5875",
   "metadata": {},
   "outputs": [
    {
     "data": {
      "text/plain": [
       "[[0, 1]]"
      ]
     },
     "execution_count": 679,
     "metadata": {},
     "output_type": "execute_result"
    }
   ],
   "source": [
    "#위조건에 맞는 if문 복붙해서 결과보기\n",
    "#마지막 if문에걸리면 담아주고\n",
    "stack.append([x,y+1])\n",
    "stack"
   ]
  },
  {
   "cell_type": "code",
   "execution_count": 681,
   "id": "c143f0e3",
   "metadata": {},
   "outputs": [],
   "source": [
    "# 내가왔던길은 2로 바인딩해준다\n",
    "maps[x,y+1] = 2"
   ]
  },
  {
   "cell_type": "code",
   "execution_count": 682,
   "id": "bec21200",
   "metadata": {
    "scrolled": true
   },
   "outputs": [
    {
     "data": {
      "text/plain": [
       "array([[0, 2, 0, 0, 0, 0],\n",
       "       [1, 0, 1, 1, 1, 0],\n",
       "       [0, 0, 1, 0, 1, 0],\n",
       "       [0, 1, 1, 0, 0, 0],\n",
       "       [0, 0, 1, 1, 1, 1],\n",
       "       [1, 0, 0, 0, 0, 0]])"
      ]
     },
     "execution_count": 682,
     "metadata": {},
     "output_type": "execute_result"
    }
   ],
   "source": [
    "#결과보기!\n",
    "\n",
    "#맵을 보면 시작이 (0,1)인것 처럼 보인다...\n",
    "maps\n",
    "# 몇번의 시도끝에 시작은 상관이 없다는 것을 깨달았다.(왼쪽으로 한번 갈뿐..!)"
   ]
  }
 ],
 "metadata": {
  "kernelspec": {
   "display_name": "Python 3",
   "language": "python",
   "name": "python3"
  },
  "language_info": {
   "codemirror_mode": {
    "name": "ipython",
    "version": 3
   },
   "file_extension": ".py",
   "mimetype": "text/x-python",
   "name": "python",
   "nbconvert_exporter": "python",
   "pygments_lexer": "ipython3",
   "version": "3.8.11"
  }
 },
 "nbformat": 4,
 "nbformat_minor": 5
}
