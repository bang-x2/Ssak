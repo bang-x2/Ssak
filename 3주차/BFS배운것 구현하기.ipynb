{
 "cells": [
  {
   "cell_type": "markdown",
   "id": "5fac9c75",
   "metadata": {},
   "source": [
    "# 너비우선 탐색(BFS) Breadth first Search"
   ]
  },
  {
   "cell_type": "code",
   "execution_count": 5,
   "id": "4cf96c74",
   "metadata": {},
   "outputs": [],
   "source": [
    "#라이브러리\n",
    "import numpy as np"
   ]
  },
  {
   "cell_type": "markdown",
   "id": "1dcac2a7",
   "metadata": {},
   "source": [
    "배운 BFS 을 나름대로 변형해보기"
   ]
  },
  {
   "cell_type": "code",
   "execution_count": null,
   "id": "5359f93e",
   "metadata": {},
   "outputs": [],
   "source": [
    "# def BFS():    \n",
    "#     while len(queue)>0:\n",
    "    for i in range(3):\n",
    "        count = len(queue)\n",
    "        for time in range(count):\n",
    "            now = queue.pop(0)\n",
    "            if now == dest:\n",
    "                return answer\n",
    "            \n",
    "#좌표로 담을 수 있게 만들자         \n",
    "\n",
    "            x = now[0]\n",
    "            y = now[1]\n",
    "            if x - 1 > -1:                 #위쪽 벽\n",
    "                if map[x-1][y] == 0:\n",
    "    \n",
    "                    data.append([y,x-1])\n",
    "                    map[x-1,y] = 2\n",
    "            if x + 1 < hori:              #아래쪽 벽\n",
    "                if map[x+1][y]==0:\n",
    "    \n",
    "                    data.append([x+1,y])\n",
    "                    map[x+1,y] = 2\n",
    "            if y - 1 > -1:                # 왼쪽 벽\n",
    "                if map[x][y-1] == 0:\n",
    "   \n",
    "                    data.append([x,y-1])\n",
    "                    map[x,y-1] = 2\n",
    "            if y + 1 < verti:             # 오른쪽 벽\n",
    "                if map[x][y+1]==0:\n",
    "   \n",
    "                    data.append([x,y+1])\n",
    "                    map[x][y+1]=2\n",
    "                        \n",
    "#담은 queue를 뽑을 수 있게 해준다.\n",
    "#             for i in data:\n",
    "#                 if i[0]==now and visited[i[1]-1]==False:\n",
    "#                     queue.append(i[1])\n",
    "#                     visited[i[1]-1]=True\n",
    "#                 elif i[1]==now and visited[i[0]-1] ==False:\n",
    "#                     queue.append(i[0])\n",
    "#                     visited[i[0]-1]=True\n",
    "#         answer+=1\n",
    "#     return answer"
   ]
  },
  {
   "cell_type": "markdown",
   "id": "188e4db9",
   "metadata": {},
   "source": [
    "# 초기 지도초기화 및 설정"
   ]
  },
  {
   "cell_type": "code",
   "execution_count": 122,
   "id": "05feaf17",
   "metadata": {
    "scrolled": true
   },
   "outputs": [
    {
     "data": {
      "text/plain": [
       "array([[ 1,  2,  3,  4,  5],\n",
       "       [ 6,  7,  8,  9, 10],\n",
       "       [11, 12, 13, 14, 15],\n",
       "       [16, 17, 18, 19, 20],\n",
       "       [21, 22, 23, 24, 25]])"
      ]
     },
     "execution_count": 122,
     "metadata": {},
     "output_type": "execute_result"
    }
   ],
   "source": [
    "map = np.arange(1,26).reshape(5,5)\n",
    "map"
   ]
  },
  {
   "cell_type": "code",
   "execution_count": 123,
   "id": "2c5385d3",
   "metadata": {},
   "outputs": [
    {
     "data": {
      "text/plain": [
       "array([[0, 0, 0, 0, 0],\n",
       "       [1, 1, 0, 1, 1],\n",
       "       [0, 0, 0, 0, 0],\n",
       "       [0, 1, 0, 1, 0],\n",
       "       [0, 1, 0, 1, 0]])"
      ]
     },
     "execution_count": 123,
     "metadata": {},
     "output_type": "execute_result"
    }
   ],
   "source": [
    "#지도만들기\n",
    "map=np.zeros_like(map)\n",
    "\n",
    "map[1:2,:2] = 1\n",
    "map[1:2,3:5] = 1\n",
    "map[3:5,1:2] = 1\n",
    "map[3:5,3:4] = 1\n",
    "map"
   ]
  },
  {
   "cell_type": "code",
   "execution_count": 124,
   "id": "06b1f95e",
   "metadata": {},
   "outputs": [],
   "source": [
    "queue = [[0,2]] #출발 좌표\n",
    "dest = [2,4] #도착 좌표\n",
    "data = []\n",
    "hori = 5\n",
    "verti = 5\n",
    "map[0,2] = 2 #초기 시작설정 "
   ]
  },
  {
   "cell_type": "markdown",
   "id": "dba9642c",
   "metadata": {},
   "source": [
    "# 수작업 돌려보기"
   ]
  },
  {
   "cell_type": "code",
   "execution_count": 149,
   "id": "9d7f1a94",
   "metadata": {},
   "outputs": [
    {
     "name": "stdout",
     "output_type": "stream",
     "text": [
      "정답\n",
      "[[3, 0], [3, 4]]\n"
     ]
    }
   ],
   "source": [
    "#좌표로 BFS 구현하기\n",
    "# while len(queue)>0:\n",
    "\n",
    "for i in range(1):     #1번씩 반복!\n",
    "    now = queue.pop(0)\n",
    "    if now == dest:\n",
    "        print('정답')\n",
    "        break\n",
    "  \n",
    "    x = now[0]\n",
    "    y = now[1]\n",
    "    if x - 1 > -1:                 #위쪽 벽\n",
    "        if map[x-1][y] == 0:\n",
    "            queue.append([y,x-1])\n",
    "            map[x-1,y] = 2\n",
    "    if x + 1 < hori:              #아래쪽 벽\n",
    "        if map[x+1][y]==0:\n",
    "            queue.append([x+1,y])\n",
    "            map[x+1,y] = 2\n",
    "    if y - 1 > -1:                # 왼쪽 벽\n",
    "        if map[x][y-1] == 0:\n",
    "            queue.append([x,y-1])\n",
    "            map[x,y-1] = 2\n",
    "    if y + 1 < verti:             # 오른쪽 벽\n",
    "        if map[x][y+1]==0:\n",
    "            queue.append([x,y+1])\n",
    "            map[x][y+1]=2\n",
    "print(queue)"
   ]
  },
  {
   "cell_type": "markdown",
   "id": "f2392fb5",
   "metadata": {},
   "source": [
    "# {지도 발자국}  11번탐색(잘 탐색 된 것을 알 수 있다.)"
   ]
  },
  {
   "cell_type": "code",
   "execution_count": 118,
   "id": "ae4eb2db",
   "metadata": {
    "scrolled": true
   },
   "outputs": [
    {
     "data": {
      "text/plain": [
       "array([[0, 2, 0, 2, 0],\n",
       "       [1, 1, 2, 1, 1],\n",
       "       [0, 0, 0, 0, 0],\n",
       "       [0, 1, 0, 1, 0],\n",
       "       [0, 1, 0, 1, 0]])"
      ]
     },
     "execution_count": 118,
     "metadata": {},
     "output_type": "execute_result"
    }
   ],
   "source": [
    "#0번째 Search *초기 (0,2) 설정안하면 이렇게된다.\n",
    "map"
   ]
  },
  {
   "cell_type": "code",
   "execution_count": 126,
   "id": "d035e0bb",
   "metadata": {},
   "outputs": [
    {
     "data": {
      "text/plain": [
       "array([[0, 2, 2, 2, 0],\n",
       "       [1, 1, 2, 1, 1],\n",
       "       [0, 0, 0, 0, 0],\n",
       "       [0, 1, 0, 1, 0],\n",
       "       [0, 1, 0, 1, 0]])"
      ]
     },
     "execution_count": 126,
     "metadata": {},
     "output_type": "execute_result"
    }
   ],
   "source": [
    "#0번째 Search *초기 설정상태\n",
    "map"
   ]
  },
  {
   "cell_type": "code",
   "execution_count": 128,
   "id": "e53724b5",
   "metadata": {},
   "outputs": [
    {
     "data": {
      "text/plain": [
       "array([[0, 2, 2, 2, 0],\n",
       "       [1, 1, 2, 1, 1],\n",
       "       [0, 0, 2, 0, 0],\n",
       "       [0, 1, 0, 1, 0],\n",
       "       [0, 1, 0, 1, 0]])"
      ]
     },
     "execution_count": 128,
     "metadata": {},
     "output_type": "execute_result"
    }
   ],
   "source": [
    "#1번째 Search\n",
    "map"
   ]
  },
  {
   "cell_type": "code",
   "execution_count": 130,
   "id": "898a4b7f",
   "metadata": {},
   "outputs": [
    {
     "data": {
      "text/plain": [
       "array([[2, 2, 2, 2, 0],\n",
       "       [1, 1, 2, 1, 1],\n",
       "       [0, 0, 2, 0, 0],\n",
       "       [0, 1, 0, 1, 0],\n",
       "       [0, 1, 0, 1, 0]])"
      ]
     },
     "execution_count": 130,
     "metadata": {},
     "output_type": "execute_result"
    }
   ],
   "source": [
    "#2번째 Search\n",
    "map"
   ]
  },
  {
   "cell_type": "code",
   "execution_count": 132,
   "id": "6737097c",
   "metadata": {},
   "outputs": [
    {
     "data": {
      "text/plain": [
       "array([[2, 2, 2, 2, 2],\n",
       "       [1, 1, 2, 1, 1],\n",
       "       [0, 0, 2, 0, 0],\n",
       "       [0, 1, 0, 1, 0],\n",
       "       [0, 1, 0, 1, 0]])"
      ]
     },
     "execution_count": 132,
     "metadata": {},
     "output_type": "execute_result"
    }
   ],
   "source": [
    "#3번째 Search\n",
    "map"
   ]
  },
  {
   "cell_type": "code",
   "execution_count": 134,
   "id": "e07757eb",
   "metadata": {},
   "outputs": [
    {
     "data": {
      "text/plain": [
       "array([[2, 2, 2, 2, 2],\n",
       "       [1, 1, 2, 1, 1],\n",
       "       [0, 2, 2, 2, 0],\n",
       "       [0, 1, 2, 1, 0],\n",
       "       [0, 1, 0, 1, 0]])"
      ]
     },
     "execution_count": 134,
     "metadata": {},
     "output_type": "execute_result"
    }
   ],
   "source": [
    "#4번째 Search\n",
    "map"
   ]
  },
  {
   "cell_type": "code",
   "execution_count": 136,
   "id": "e6727ab1",
   "metadata": {},
   "outputs": [
    {
     "data": {
      "text/plain": [
       "array([[2, 2, 2, 2, 2],\n",
       "       [1, 1, 2, 1, 1],\n",
       "       [0, 2, 2, 2, 0],\n",
       "       [0, 1, 2, 1, 0],\n",
       "       [0, 1, 0, 1, 0]])"
      ]
     },
     "execution_count": 136,
     "metadata": {},
     "output_type": "execute_result"
    }
   ],
   "source": [
    "#5번째 Search\n",
    "map"
   ]
  },
  {
   "cell_type": "code",
   "execution_count": 140,
   "id": "f56093b3",
   "metadata": {},
   "outputs": [
    {
     "data": {
      "text/plain": [
       "array([[2, 2, 2, 2, 2],\n",
       "       [1, 1, 2, 1, 1],\n",
       "       [0, 2, 2, 2, 0],\n",
       "       [0, 1, 2, 1, 0],\n",
       "       [0, 1, 2, 1, 0]])"
      ]
     },
     "execution_count": 140,
     "metadata": {},
     "output_type": "execute_result"
    }
   ],
   "source": [
    "#6번째 Search\n",
    "map"
   ]
  },
  {
   "cell_type": "code",
   "execution_count": 142,
   "id": "cec2fee5",
   "metadata": {},
   "outputs": [
    {
     "data": {
      "text/plain": [
       "array([[2, 2, 2, 2, 2],\n",
       "       [1, 1, 2, 1, 1],\n",
       "       [2, 2, 2, 2, 0],\n",
       "       [0, 1, 2, 1, 0],\n",
       "       [0, 1, 2, 1, 0]])"
      ]
     },
     "execution_count": 142,
     "metadata": {},
     "output_type": "execute_result"
    }
   ],
   "source": [
    "#7번째 Search\n",
    "map"
   ]
  },
  {
   "cell_type": "code",
   "execution_count": 144,
   "id": "c38b31b7",
   "metadata": {},
   "outputs": [
    {
     "data": {
      "text/plain": [
       "array([[2, 2, 2, 2, 2],\n",
       "       [1, 1, 2, 1, 1],\n",
       "       [2, 2, 2, 2, 2],\n",
       "       [0, 1, 2, 1, 0],\n",
       "       [0, 1, 2, 1, 0]])"
      ]
     },
     "execution_count": 144,
     "metadata": {},
     "output_type": "execute_result"
    }
   ],
   "source": [
    "#8번째 Search\n",
    "map"
   ]
  },
  {
   "cell_type": "code",
   "execution_count": 146,
   "id": "02a6d256",
   "metadata": {},
   "outputs": [
    {
     "data": {
      "text/plain": [
       "array([[2, 2, 2, 2, 2],\n",
       "       [1, 1, 2, 1, 1],\n",
       "       [2, 2, 2, 2, 2],\n",
       "       [0, 1, 2, 1, 0],\n",
       "       [0, 1, 2, 1, 0]])"
      ]
     },
     "execution_count": 146,
     "metadata": {},
     "output_type": "execute_result"
    }
   ],
   "source": [
    "#9번째 Search\n",
    "map"
   ]
  },
  {
   "cell_type": "code",
   "execution_count": 148,
   "id": "800c559f",
   "metadata": {},
   "outputs": [
    {
     "data": {
      "text/plain": [
       "array([[2, 2, 2, 2, 2],\n",
       "       [1, 1, 2, 1, 1],\n",
       "       [2, 2, 2, 2, 2],\n",
       "       [2, 1, 2, 1, 0],\n",
       "       [0, 1, 2, 1, 0]])"
      ]
     },
     "execution_count": 148,
     "metadata": {},
     "output_type": "execute_result"
    }
   ],
   "source": [
    "#10번째 Search\n",
    "map"
   ]
  },
  {
   "cell_type": "code",
   "execution_count": 150,
   "id": "079a7561",
   "metadata": {},
   "outputs": [
    {
     "data": {
      "text/plain": [
       "array([[2, 2, 2, 2, 2],\n",
       "       [1, 1, 2, 1, 1],\n",
       "       [2, 2, 2, 2, 2],\n",
       "       [2, 1, 2, 1, 2],\n",
       "       [0, 1, 2, 1, 0]])"
      ]
     },
     "execution_count": 150,
     "metadata": {},
     "output_type": "execute_result"
    }
   ],
   "source": [
    "#11번째 Search \n",
    "map\n",
    "#정답을 찾았다."
   ]
  },
  {
   "cell_type": "markdown",
   "id": "6fb82653",
   "metadata": {},
   "source": [
    "# 느낀점"
   ]
  },
  {
   "cell_type": "markdown",
   "id": "36cce5f2",
   "metadata": {},
   "source": [
    "DFS배운것을 구현해보니 BFS구현하는 것이 더 수월해졌다.<br>\n",
    "코드를 뜯어서 먹는다는 것이 이런건가 싶다.<br>\n",
    "구현 시간도 많이 줄어서 좋다!<br>"
   ]
  }
 ],
 "metadata": {
  "kernelspec": {
   "display_name": "Python 3",
   "language": "python",
   "name": "python3"
  },
  "language_info": {
   "codemirror_mode": {
    "name": "ipython",
    "version": 3
   },
   "file_extension": ".py",
   "mimetype": "text/x-python",
   "name": "python",
   "nbconvert_exporter": "python",
   "pygments_lexer": "ipython3",
   "version": "3.8.11"
  }
 },
 "nbformat": 4,
 "nbformat_minor": 5
}
