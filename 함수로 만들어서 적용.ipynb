{
 "cells": [
  {
   "cell_type": "code",
   "execution_count": 36,
   "id": "4561ff32",
   "metadata": {},
   "outputs": [],
   "source": [
    "import cv2\n",
    "import numpy as np\n",
    "\n",
    "img = cv2.imread('./img/fish.jpg')\n",
    "rows,cols = img.shape[0:2]\n",
    "\n",
    "# ---① 라디안 각도 계산(60진법을 호도법으로 변경)\n",
    "d45 = 45.0 * np.pi / 180    # 45도\n",
    "d90 = 90.0 * np.pi / 180    # 90도\n",
    "d135 = 135.0 * np.pi / 180    # 90도\n",
    "# ---② 회전을 위한 변환 행렬 생성\n",
    "m45 = np.float32( [[ np.cos(d45), -1* np.sin(d45), rows//2],\n",
    "                    [np.sin(d45), np.cos(d45), -1*cols//4]])\n",
    "m90 = np.float32( [[ np.cos(d90), -1* np.sin(d90), rows],\n",
    "                    [np.sin(d90), np.cos(d90), 0]])\n",
    "m135= np.float32( [[ np.cos(d135), -1* np.sin(d90), rows//2],\n",
    "                    [np.sin(d135), np.cos(d90), -1*cols//4]])\n",
    "# ---③ 회전 변환 행렬 적용\n",
    "r45 = cv2.warpAffine(img,m45,(cols,rows))\n",
    "r90 = cv2.warpAffine(img,m90,(rows,cols))\n",
    "r135 = cv2.warpAffine(img,m135,(rows,cols))\n",
    "# ---④ 결과 출력\n",
    "cv2.imshow(\"origin\", img)\n",
    "cv2.imshow(\"45\", r45)\n",
    "cv2.imshow(\"90\", r90)\n",
    "cv2.imshow(\"135\", r135)\n",
    "cv2.waitKey(0)\n",
    "cv2.destroyAllWindows()"
   ]
  },
  {
   "cell_type": "code",
   "execution_count": null,
   "id": "fb9793e6",
   "metadata": {},
   "outputs": [],
   "source": [
    "def rotate(pos):\n",
    "    global img\n",
    "    Angle = 0\n",
    "    if pos == 0:\n",
    "        pos += 1\n",
    "        Angle += 45.0\n",
    "        img = cv2.imread(f'data/{name}.jpg')\n",
    "        cv2.imshow('image', img)\n",
    "        \n",
    "    else:\n",
    "        pos += 1\n",
    "        Angle += 45.0\n",
    "        d = Angle * np.pi / 180\n",
    "        m = np.float32( [[ np.cos(d), -1* np.sin(d), rows//2],\n",
    "                    [np.sin(d), np.cos(d), -1*cols//4]])\n",
    "        img =  cv2.warpAffine(img,m,(rows,cols))\n",
    "        cv2.imshow('image', img)"
   ]
  }
 ],
 "metadata": {
  "kernelspec": {
   "display_name": "Python 3 (ipykernel)",
   "language": "python",
   "name": "python3"
  },
  "language_info": {
   "codemirror_mode": {
    "name": "ipython",
    "version": 3
   },
   "file_extension": ".py",
   "mimetype": "text/x-python",
   "name": "python",
   "nbconvert_exporter": "python",
   "pygments_lexer": "ipython3",
   "version": "3.8.8"
  }
 },
 "nbformat": 4,
 "nbformat_minor": 5
}
