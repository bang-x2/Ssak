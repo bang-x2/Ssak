{
 "cells": [
  {
   "cell_type": "code",
   "execution_count": 38,
   "id": "9c1a2471",
   "metadata": {},
   "outputs": [],
   "source": [
    "#처음 카운트로 풀기\n",
    "#리스트[0]도 카운트 되기때문에 count 1이상이라는 조건을 걸었다.\n",
    "#\n",
    "def solution(phone_book):\n",
    "    count = 0\n",
    "    for i in phone_book:\n",
    "        if i.startswith(phone_book[0]) is True:\n",
    "            count += 1\n",
    "            if count > 1:\n",
    "                return False\n",
    "    return True"
   ]
  },
  {
   "cell_type": "code",
   "execution_count": 39,
   "id": "d3761ddf",
   "metadata": {
    "scrolled": true
   },
   "outputs": [
    {
     "name": "stdout",
     "output_type": "stream",
     "text": [
      "1\n"
     ]
    },
    {
     "data": {
      "text/plain": [
       "True"
      ]
     },
     "execution_count": 39,
     "metadata": {},
     "output_type": "execute_result"
    }
   ],
   "source": [
    "solution(b)"
   ]
  },
  {
   "cell_type": "code",
   "execution_count": 252,
   "id": "a0e82e43",
   "metadata": {},
   "outputs": [],
   "source": [
    "# 정답!!!! 문제를 잘 읽어보면 첫번째번호만 같은 번호인지를 맞추는게 아니다.\n",
    "# 모두 탐색하지 않고 앞뒤로만 조건에 충족되어도 된다.\n",
    "# 몇개를 맞추는것이 아닌 몇개있는지 판별하기만 하면되기때문\n",
    "def solution(phone_book):\n",
    "    phone_book.sort()\n",
    "    for i in range(1,len(phone_book)):\n",
    "        if phone_book[i].startswith(phone_book[i-1]) == True:\n",
    "            return False\n",
    "    return True"
   ]
  },
  {
   "cell_type": "code",
   "execution_count": 255,
   "id": "89a318ae",
   "metadata": {},
   "outputs": [
    {
     "data": {
      "text/plain": [
       "False"
      ]
     },
     "execution_count": 255,
     "metadata": {},
     "output_type": "execute_result"
    }
   ],
   "source": [
    "solution(c)"
   ]
  },
  {
   "cell_type": "markdown",
   "id": "a192283e",
   "metadata": {},
   "source": []
  }
 ],
 "metadata": {
  "kernelspec": {
   "display_name": "Python 3",
   "language": "python",
   "name": "python3"
  },
  "language_info": {
   "codemirror_mode": {
    "name": "ipython",
    "version": 3
   },
   "file_extension": ".py",
   "mimetype": "text/x-python",
   "name": "python",
   "nbconvert_exporter": "python",
   "pygments_lexer": "ipython3",
   "version": "3.8.8"
  }
 },
 "nbformat": 4,
 "nbformat_minor": 5
}
