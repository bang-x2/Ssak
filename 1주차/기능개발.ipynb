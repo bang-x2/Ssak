{
 "cells": [
  {
   "cell_type": "markdown",
   "id": "6befa8b5",
   "metadata": {},
   "source": [
    "https://programmers.co.kr/learn/courses/30/lessons/42586"
   ]
  },
  {
   "cell_type": "markdown",
   "id": "9f867dd2",
   "metadata": {},
   "source": [
    "1)    \n",
    "progresses = [93, 30, 55]  \n",
    "\n",
    "speeds = [1, 30, 5]  \n",
    "\n",
    "return = [2, 1]  \n",
    "2)    \n",
    "progresses = [95, 90, 99, 99, 80, 99]  \n",
    "\n",
    "speeds = [1, 1, 1, 1, 1, 1]  \n",
    "\n",
    "return = [1, 3, 2]  "
   ]
  },
  {
   "cell_type": "markdown",
   "id": "c155348f",
   "metadata": {},
   "source": [
    "입출력 예 #1  \n",
    "첫 번째 기능은 93% 완료되어 있고 하루에 1%씩 작업이 가능하므로 7일간 작업 후 배포가 가능합니다.  \n",
    "두 번째 기능은 30%가 완료되어 있고 하루에 30%씩 작업이 가능하므로 3일간 작업 후 배포가 가능합니다.  \n",
    "하지만 이전 첫 번째 기능이 아직 완성된 상태가 아니기 때문에 첫 번째 기능이 배포되는 7일째 배포됩니다.  \n",
    "세 번째 기능은 55%가 완료되어 있고 하루에 5%씩 작업이 가능하므로 9일간 작업 후 배포가 가능합니다.  \n",
    "\n",
    "따라서 7일째에 2개의 기능, 9일째에 1개의 기능이 배포됩니다.    \n",
    "\n",
    "입출력 예 #2  \n",
    "모든 기능이 하루에 1%씩 작업이 가능하므로, 작업이 끝나기까지 남은 일수는 각각 5일, 10일, 1일, 1일, 20일, 1일입니다.  \n",
    "어떤 기능이 먼저 완성되었더라도 앞에 있는 모든 기능이 완성되지 않으면 배포가 불가능합니다.  \n",
    "\n",
    "따라서 5일째에 1개의 기능, 10일째에 3개의 기능, 20일째에 2개의 기능이 배포됩니다.   "
   ]
  },
  {
   "cell_type": "code",
   "execution_count": 37,
   "id": "2ee11cb9",
   "metadata": {},
   "outputs": [],
   "source": [
    "#1번\n",
    "def solution1(progresses, speeds):\n",
    "    global count     \n",
    "    buk = []\n",
    "    \n",
    "    index = 0\n",
    "    \n",
    "    count = 0\n",
    "    \n",
    "    for i in range(len(progresses)):\n",
    "    \n",
    "    \n",
    "        \n",
    "        while 100 > progresses[index]:\n",
    "            \n",
    "            progresses[index] += speeds[index]\n",
    "            \n",
    "            count += 1\n",
    "        \n",
    "        buk.append(count)\n",
    "        \n",
    "        index += 1\n",
    "        \n",
    "        count = 0    \n",
    "#     print(buk)\n",
    "    score = 0\n",
    "    buk1 = []\n",
    "    for i in range(len(buk)-1):\n",
    "        if buk[0] > buk[1]:\n",
    "            score += 1\n",
    "            buk.pop(0)\n",
    "            \n",
    "        \n",
    "        else:\n",
    "            score += 1\n",
    "            buk.pop(0)\n",
    "            buk1.append(score)\n",
    "        score = 1\n",
    "    buk1.append(score)\n",
    "    return(buk1)"
   ]
  },
  {
   "cell_type": "code",
   "execution_count": 38,
   "id": "6b2fab6c",
   "metadata": {},
   "outputs": [],
   "source": [
    "#2번 \n",
    "def solution2(progresses, speeds):\n",
    "    global count     \n",
    "    buk = []\n",
    "    \n",
    "    index = 0\n",
    "    \n",
    "    count = 0\n",
    "    \n",
    "    for i in range(len(progresses)):\n",
    "    \n",
    "    \n",
    "        \n",
    "        while 100 > progresses[index]:\n",
    "            \n",
    "            progresses[index] += speeds[index]\n",
    "            \n",
    "            count += 1\n",
    "        \n",
    "        buk.append(count)\n",
    "        \n",
    "        index += 1\n",
    "        \n",
    "        count = 0    \n",
    "#     print(buk)\n",
    "    score = 0\n",
    "    buk1 = []\n",
    "    for i in range(len(buk)-1):\n",
    "        if buk[0] > buk[1]:\n",
    "            score += 1\n",
    "            buk.pop(0)\n",
    "        \n",
    "        else:\n",
    "            score += 1\n",
    "            buk.pop(0)\n",
    "            buk1.append(score)\n",
    "            score = 1\n",
    "    return (buk1)"
   ]
  },
  {
   "cell_type": "code",
   "execution_count": 39,
   "id": "242d9b92",
   "metadata": {},
   "outputs": [
    {
     "data": {
      "text/plain": [
       "[2, 1]"
      ]
     },
     "execution_count": 39,
     "metadata": {},
     "output_type": "execute_result"
    }
   ],
   "source": [
    "progresses = [93, 30, 55]\n",
    "speeds = [1, 30, 5]\n",
    "solution1(progresses, speeds)"
   ]
  },
  {
   "cell_type": "code",
   "execution_count": 40,
   "id": "c4584dae",
   "metadata": {},
   "outputs": [
    {
     "data": {
      "text/plain": [
       "[1, 3, 2]"
      ]
     },
     "execution_count": 40,
     "metadata": {},
     "output_type": "execute_result"
    }
   ],
   "source": [
    "progresses = [95, 90, 99, 99, 80, 99] \n",
    "speeds = [1,1,1,1,1,1]\n",
    "solution2(progresses, speeds)"
   ]
  },
  {
   "cell_type": "code",
   "execution_count": null,
   "id": "b21cf597",
   "metadata": {},
   "outputs": [],
   "source": []
  },
  {
   "cell_type": "code",
   "execution_count": null,
   "id": "7b17d649",
   "metadata": {},
   "outputs": [],
   "source": []
  }
 ],
 "metadata": {
  "kernelspec": {
   "display_name": "Python 3",
   "language": "python",
   "name": "python3"
  },
  "language_info": {
   "codemirror_mode": {
    "name": "ipython",
    "version": 3
   },
   "file_extension": ".py",
   "mimetype": "text/x-python",
   "name": "python",
   "nbconvert_exporter": "python",
   "pygments_lexer": "ipython3",
   "version": "3.8.11"
  }
 },
 "nbformat": 4,
 "nbformat_minor": 5
}
