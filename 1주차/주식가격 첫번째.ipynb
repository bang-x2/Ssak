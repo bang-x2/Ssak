{
 "cells": [
  {
   "cell_type": "markdown",
   "id": "e9ddd13c",
   "metadata": {},
   "source": [
    "# 일단 문제를 파악하자\n",
    "1원 2원 3원짜리 객체가 있는건가? 그러기엔 리스트객체가 하나인데...\n",
    "but\n",
    "\n"
   ]
  },
  {
   "cell_type": "code",
   "execution_count": 1,
   "id": "b28d4c47",
   "metadata": {},
   "outputs": [
    {
     "name": "stdout",
     "output_type": "stream",
     "text": [
      "1초 2초 3초 4초 5초\n",
      "------------------------------\n",
      "\\ 1 \\ 2 \\ 3 \\ 2 \\ 3\n"
     ]
    }
   ],
   "source": [
    "print('1초', '2초', '3초', '4초', '5초')\n",
    "print('-'*30)\n",
    "print('\\ 1','\\ 2','\\ 3','\\ 2','\\ 3')"
   ]
  },
  {
   "cell_type": "markdown",
   "id": "4c44a8e5",
   "metadata": {},
   "source": [
    "시간이 가면 가격이 계속 올라(+)가고 떨어질때 리셋?\n",
    "\n",
    "아닌 것 같다"
   ]
  },
  {
   "cell_type": "code",
   "execution_count": 2,
   "id": "c2612b52",
   "metadata": {},
   "outputs": [],
   "source": [
    "return_v = [4, 3, 1, 1, 0]\n",
    "second_v = [0,1,2,3,4]\n",
    "#second_v 을 return_v 처럼 만들려면"
   ]
  },
  {
   "cell_type": "markdown",
   "id": "86c380f5",
   "metadata": {},
   "source": [
    "1) 담는pop \n",
    "\n",
    "2)담는pop\n",
    "\n",
    "3)버리는pop\n",
    "\n",
    "4)담는 append\n",
    "\n",
    "5)담는 pop\n",
    "\n",
    "6)담는 pop"
   ]
  },
  {
   "cell_type": "markdown",
   "id": "aeecdeff",
   "metadata": {},
   "source": [
    "1) append(seconds.pop())\n",
    "\n",
    "2) append(seconds.pop()) \n",
    "\n",
    "3) seconds.pop()             \n",
    "\n",
    "4) append(seconds[-1])    \n",
    "\n",
    "5) append(seconds.pop()) \n",
    "\n",
    "6) append(seconds.pop())"
   ]
  },
  {
   "cell_type": "markdown",
   "id": "eacb71ce",
   "metadata": {},
   "source": [
    "담는 pop : append(seconds.pop())\n",
    "\n",
    "버리는pop : seconds.pop()\n",
    "\n",
    "담는 append : append(seconds[-1])\n",
    "\n",
    "3개의 조건이 있어야 result가 나올 것 같다."
   ]
  },
  {
   "cell_type": "code",
   "execution_count": 3,
   "id": "5e50f36c",
   "metadata": {
    "scrolled": true
   },
   "outputs": [
    {
     "data": {
      "text/plain": [
       "[4, 3, 1, 1, 0]"
      ]
     },
     "execution_count": 3,
     "metadata": {},
     "output_type": "execute_result"
    }
   ],
   "source": [
    "count = 0\n",
    "def solution(prices):\n",
    "    list_second = [4]\n",
    "    seconds = list(range(len(prices)-1))\n",
    "    global count\n",
    "    for i in range(len(prices)):\n",
    "        if prices[i] > count:\n",
    "            count += 2\n",
    "            list_second.append(seconds.pop())\n",
    "        elif prices[i] == count:\n",
    "            seconds.pop()\n",
    "            count += 2\n",
    "        else:\n",
    "            list_second.append(seconds[-1])\n",
    "            count += -4\n",
    "    return list_second\n",
    "\n",
    "solution([1, 2, 3, 2, 3])"
   ]
  },
  {
   "cell_type": "markdown",
   "id": "fc996e0e",
   "metadata": {},
   "source": [
    "답은 나왔지만 제출은 빵점"
   ]
  },
  {
   "cell_type": "markdown",
   "id": "9ebf0b67",
   "metadata": {},
   "source": [
    "1주차때 배운 \"스택/큐\" 로만 해야하는 것 인가?\n",
    "\n",
    "이렇게 푸는것이 맞는 길일까..?\n",
    "\n",
    "더 고민하고 도전해봐야겠다."
   ]
  },
  {
   "cell_type": "code",
   "execution_count": null,
   "id": "8f9bdb8b",
   "metadata": {},
   "outputs": [],
   "source": []
  }
 ],
 "metadata": {
  "kernelspec": {
   "display_name": "Python 3",
   "language": "python",
   "name": "python3"
  },
  "language_info": {
   "codemirror_mode": {
    "name": "ipython",
    "version": 3
   },
   "file_extension": ".py",
   "mimetype": "text/x-python",
   "name": "python",
   "nbconvert_exporter": "python",
   "pygments_lexer": "ipython3",
   "version": "3.8.11"
  }
 },
 "nbformat": 4,
 "nbformat_minor": 5
}
