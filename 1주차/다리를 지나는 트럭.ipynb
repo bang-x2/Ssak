{
 "cells": [
  {
   "cell_type": "markdown",
   "id": "e55e73aa",
   "metadata": {},
   "source": [
    "https://programmers.co.kr/learn/courses/30/lessons/42583"
   ]
  },
  {
   "cell_type": "markdown",
   "id": "a07366f2",
   "metadata": {},
   "source": [
    "<font color=blue>bridge_length</font> = 2  다리에 올라갈 수 있는 트럭 수  \n",
    "weight = 10  다리가 견딜 수 있는 무게    \n",
    "<font color=blue|red|green|pink|yellow>truck_weights</font> = [7,4,5,6]  트럭 별 무게  \n",
    "return = 8    "
   ]
  },
  {
   "cell_type": "markdown",
   "id": "23c53095",
   "metadata": {},
   "source": [
    "다리가 몇개인지   \n",
    "다리는 <font color=red>1차선</font> 다리에는 트럭이 최대 <font color=blue>bridge_length</font> 트럭들 무게<font color=blue|red|green|pink|yellow>truck_weights</font>"
   ]
  },
  {
   "attachments": {
    "1.png": {
     "image/png": "[encoded data removed]"
    }
   },
   "cell_type": "markdown",
   "id": "b8a4bc27",
   "metadata": {},
   "source": [
    "![1.png](attachment:1.png)"
   ]
  },
  {
   "cell_type": "markdown",
   "id": "56955545",
   "metadata": {},
   "source": [
    "\n",
    "|다리에 올라갈 수 있는 트럭 수|다리가 견딜 수 있는 무게|트럭 별 무게|결과|\n",
    "|---|---|---|---|\n",
    "|2|10|[7,4,5,6]|8|\n",
    "|100|100|[10]|101|\n",
    "|100|100|[10,10,10,10,10,10,10,10,10,10]|110|"
   ]
  },
  {
   "cell_type": "markdown",
   "id": "ed427773",
   "metadata": {},
   "source": [
    "경과시간이 이해가 안 간다."
   ]
  },
  {
   "cell_type": "markdown",
   "id": "8c46e07f",
   "metadata": {},
   "source": [
    "수작업 한번 해보았더니 경과시간이 이해가 갔다.  \n",
    "\n",
    "처음   \n",
    "1초는 대기 \n",
    "2초는 다리에 있는지 없는지 판별하는 것   \n",
    "(문제에 명확한 힌트를 준것같다.)  \n",
    "\n",
    "두번째   \n",
    "6다리에 있는지 없는지판별  \n",
    "7초는 대기트럭이 있는지 없는지 판별? (없다면 모두 건너므로 계산 종료)    \n",
    "  \n",
    "1-2초 ,6-7초 이 부분은 반복문안에서 두번 돌아야할 것 같은 느낌이다    \n",
    "\n",
    "아직 까진 풀다보면 또 느끼겠지....    "
   ]
  },
  {
   "cell_type": "code",
   "execution_count": null,
   "id": "715f85b2",
   "metadata": {},
   "outputs": [],
   "source": [
    "def solution(bridge_length, weight, truck_weights):"
   ]
  },
  {
   "cell_type": "code",
   "execution_count": null,
   "id": "d014c460",
   "metadata": {},
   "outputs": [],
   "source": [
    "#언제 끝날지 모르니 while문을 써주어야겠다. 조건은 다리에 모두도착했을때 \n",
    "\n",
    "while len(truck_weights) < len(truck_weights)+1:\n",
    "\n",
    "# 대기 트럭이 도착한트럭보다 많으면 안되!\n",
    "\n",
    "# 반복될때마다 count + 1 = 시간\n",
    "\n",
    "# if문으로 다리 중량초과하면 안되는 구문을 넣어주면 될것 같다."
   ]
  },
  {
   "cell_type": "code",
   "execution_count": 42,
   "id": "504c07b4",
   "metadata": {},
   "outputs": [
    {
     "name": "stdout",
     "output_type": "stream",
     "text": [
      "도착은[]다리는[]대기는[7, 4, 5, 6] 현재1번째입니다\n",
      "\n",
      "not 다리\n",
      "\n",
      "1\n",
      "도착은[]다리는[7]대기는[4, 5, 6] 현재2번째입니다\n",
      "\n",
      "다리[0] + 대기[0] > 10:\n",
      "\n",
      "2\n",
      "도착은[7]다리는[4]대기는[5, 6] 현재3번째입니다\n",
      "\n",
      "다리[0] + 대기[0] < 10 and len(다리) <= 2:\n",
      "\n",
      "3\n",
      "도착은[7]다리는[4, 5]대기는[6] 현재4번째입니다\n",
      "\n",
      "len(다리) == 2 and sum(다리) <= 10:\n",
      "\n",
      "4\n",
      "도착은[7, 4]다리는[5]대기는[6] 현재5번째입니다\n",
      "\n",
      "다리[0] + 대기[0] > 10:\n",
      "\n",
      "5\n",
      "도착은[7, 4, 5]다리는[6]대기는[] 현재6번째입니다\n",
      "\n"
     ]
    },
    {
     "ename": "IndexError",
     "evalue": "list index out of range",
     "output_type": "error",
     "traceback": [
      "\u001b[1;31m---------------------------------------------------------------------------\u001b[0m",
      "\u001b[1;31mIndexError\u001b[0m                                Traceback (most recent call last)",
      "\u001b[1;32m<ipython-input-42-a8ecbdd70f4d>\u001b[0m in \u001b[0;36m<module>\u001b[1;34m\u001b[0m\n\u001b[0;32m     13\u001b[0m         \u001b[0mprint\u001b[0m\u001b[1;33m(\u001b[0m\u001b[1;34m'not 다리'\u001b[0m\u001b[1;33m)\u001b[0m\u001b[1;33m\u001b[0m\u001b[1;33m\u001b[0m\u001b[0m\n\u001b[0;32m     14\u001b[0m         \u001b[0mprint\u001b[0m\u001b[1;33m(\u001b[0m\u001b[1;33m)\u001b[0m\u001b[1;33m\u001b[0m\u001b[1;33m\u001b[0m\u001b[0m\n\u001b[1;32m---> 15\u001b[1;33m     \u001b[1;32melif\u001b[0m \u001b[0m다리\u001b[0m\u001b[1;33m[\u001b[0m\u001b[1;36m0\u001b[0m\u001b[1;33m]\u001b[0m \u001b[1;33m+\u001b[0m \u001b[0m대기\u001b[0m\u001b[1;33m[\u001b[0m\u001b[1;36m0\u001b[0m\u001b[1;33m]\u001b[0m \u001b[1;33m<\u001b[0m \u001b[1;36m10\u001b[0m \u001b[1;32mand\u001b[0m \u001b[0mlen\u001b[0m\u001b[1;33m(\u001b[0m\u001b[0m다리\u001b[0m\u001b[1;33m)\u001b[0m \u001b[1;33m<=\u001b[0m \u001b[1;36m2\u001b[0m\u001b[1;33m:\u001b[0m\u001b[1;33m\u001b[0m\u001b[1;33m\u001b[0m\u001b[0m\n\u001b[0m\u001b[0;32m     16\u001b[0m         \u001b[0m다리\u001b[0m\u001b[1;33m.\u001b[0m\u001b[0mappend\u001b[0m\u001b[1;33m(\u001b[0m\u001b[0m대기\u001b[0m\u001b[1;33m.\u001b[0m\u001b[0mpop\u001b[0m\u001b[1;33m(\u001b[0m\u001b[1;36m0\u001b[0m\u001b[1;33m)\u001b[0m\u001b[1;33m)\u001b[0m\u001b[1;33m\u001b[0m\u001b[1;33m\u001b[0m\u001b[0m\n\u001b[0;32m     17\u001b[0m         \u001b[0mprint\u001b[0m\u001b[1;33m(\u001b[0m\u001b[1;34m'다리[0] + 대기[0] < 10 and len(다리) <= 2:'\u001b[0m\u001b[1;33m)\u001b[0m\u001b[1;33m\u001b[0m\u001b[1;33m\u001b[0m\u001b[0m\n",
      "\u001b[1;31mIndexError\u001b[0m: list index out of range"
     ]
    }
   ],
   "source": [
    "대기 = [7,4,5,6]\n",
    "다리 = []\n",
    "무게 = 10\n",
    "총량 = 2\n",
    "도착 = []\n",
    "score = 0\n",
    "for i in range(6):\n",
    "    score += 1\n",
    "    print(f'도착은{도착}다리는{다리}대기는{대기} 현재{score}번째입니다')\n",
    "    print()\n",
    "    if not 다리:\n",
    "        다리.append(대기.pop(0))\n",
    "        print('not 다리')\n",
    "        print()\n",
    "    elif 다리[0] + 대기[0] < 10 and len(다리) <= 2:\n",
    "        다리.append(대기.pop(0))\n",
    "        print('다리[0] + 대기[0] < 10 and len(다리) <= 2:')\n",
    "        print()\n",
    "    elif 다리[0] + 대기[0] > 10:\n",
    "        도착.append(다리.pop(0))\n",
    "        다리.append(대기.pop(0))\n",
    "        print('다리[0] + 대기[0] > 10:')\n",
    "        print()\n",
    "    elif len(다리) == 2 and sum(다리) <= 10:\n",
    "        도착.append(다리.pop(0))\n",
    "        print('len(다리) == 2 and sum(다리) <= 10:')\n",
    "        print()\n",
    "    elif not 대기:\n",
    "        도착.append(다리.pop(0))\n",
    "        print('not 대기:')\n",
    "    print(score)"
   ]
  },
  {
   "cell_type": "markdown",
   "id": "e9ddbf5a",
   "metadata": {},
   "source": [
    "bridge_length = 2 다리에 올라갈 수 있는 트럭 수\n",
    "weight = 10 다리가 견딜 수 있는 무게\n",
    "truck_weights = [7,4,5,6] 트럭 별 무게\n",
    "return = 8"
   ]
  },
  {
   "cell_type": "code",
   "execution_count": 95,
   "id": "f6a71fab",
   "metadata": {},
   "outputs": [],
   "source": [
    "def solution(bridge_length, weight, truck_weights):\n",
    "    bridge = []\n",
    "    arrival = []\n",
    "    score = 0\n",
    "    while len(arrival) < 4:\n",
    "        score += 1\n",
    "        if not bridge:\n",
    "            bridge.append(truck_weights.pop(0))\n",
    "            \n",
    "            score += 1\n",
    "        elif sum(bridge) == 4:\n",
    "            bridge.append(truck_weights.pop(0))\n",
    "            \n",
    "        elif not truck_weights:\n",
    "            arrival.append(bridge.pop(0))\n",
    "            \n",
    "        elif sum(bridge) < weight and len(bridge) < bridge_length:\n",
    "            arrival.append(bridge.pop(0))\n",
    "            bridge.append(truck_weights.pop(0))\n",
    "            \n",
    "        elif len(bridge) == bridge_length and sum(bridge) < weight:\n",
    "            arrival.append(bridge.pop(0))\n",
    "            score += 1\n",
    "    return score  \n",
    "        "
   ]
  },
  {
   "cell_type": "code",
   "execution_count": 96,
   "id": "07eacc47",
   "metadata": {},
   "outputs": [
    {
     "data": {
      "text/plain": [
       "8"
      ]
     },
     "execution_count": 96,
     "metadata": {},
     "output_type": "execute_result"
    }
   ],
   "source": [
    "bridge_length = 2\n",
    "weight = 10\n",
    "truck_weights = [7,4,5,6]\n",
    "solution(bridge_length, weight, truck_weights)"
   ]
  },
  {
   "cell_type": "markdown",
   "id": "a0e73d0f",
   "metadata": {},
   "source": [
    "첫번째 시도 1번 조건만 완성 2번째 3번째 조건도 충족되도록 만들어 봐야겠다."
   ]
  },
  {
   "cell_type": "markdown",
   "id": "a3de632e",
   "metadata": {},
   "source": [
    "# 문제점\n",
    "조건 비교 할 때 양쪽을 비교해 주면 부정적이다.\n",
    "pop은 내조건에 내 조건만해야 할 것 같다."
   ]
  }
 ],
 "metadata": {
  "kernelspec": {
   "display_name": "Python 3",
   "language": "python",
   "name": "python3"
  },
  "language_info": {
   "codemirror_mode": {
    "name": "ipython",
    "version": 3
   },
   "file_extension": ".py",
   "mimetype": "text/x-python",
   "name": "python",
   "nbconvert_exporter": "python",
   "pygments_lexer": "ipython3",
   "version": "3.8.11"
  }
 },
 "nbformat": 4,
 "nbformat_minor": 5
}
