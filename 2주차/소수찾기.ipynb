{
 "cells": [
  {
   "cell_type": "markdown",
   "id": "07efb644",
   "metadata": {},
   "source": [
    " a = \"17\"    return = 2  \n",
    "b = \"011\"   return = 2  \n",
    "\n",
    "예제 #1  \n",
    "[1, 7]으로는 소수 [7, 17, 71]를 만들 수 있습니다.  \n",
    "\n",
    "예제 #2  \n",
    "[0, 1, 1]으로는 소수 [11, 101]를 만들 수 있습니다.  \n",
    "\n",
    "11과 011은 같은 숫자로 취급합니다.  "
   ]
  },
  {
   "cell_type": "code",
   "execution_count": 9,
   "id": "bf116dd5",
   "metadata": {
    "scrolled": false
   },
   "outputs": [],
   "source": [
    "# 재귀를 사용해야하나\n"
   ]
  },
  {
   "cell_type": "code",
   "execution_count": 95,
   "id": "934ddb0d",
   "metadata": {},
   "outputs": [],
   "source": [
    "def solution(numbers):\n",
    "  \n",
    "    n=len(numbers)\n",
    "    number = []\n",
    "    buk = []\n",
    "    result = []\n",
    "\n",
    "    for i in range(n):\n",
    "        buk.append(numbers[i])\n",
    "        buk.append(numbers[(i+3)%n]+numbers[i])\n",
    "    for number in list(map(int,buk)):\n",
    "        if number == 1 :\n",
    "            pass\n",
    "        elif number % 2 == 1:\n",
    "            result.append(number)\n",
    "    return len(result)    \n",
    "        "
   ]
  },
  {
   "cell_type": "code",
   "execution_count": 96,
   "id": "423001c3",
   "metadata": {},
   "outputs": [
    {
     "data": {
      "text/plain": [
       "2"
      ]
     },
     "execution_count": 96,
     "metadata": {},
     "output_type": "execute_result"
    }
   ],
   "source": [
    "numbers = '011'\n",
    "solution(numbers)"
   ]
  },
  {
   "cell_type": "code",
   "execution_count": 97,
   "id": "05c5e1cf",
   "metadata": {
    "scrolled": true
   },
   "outputs": [
    {
     "data": {
      "text/plain": [
       "3"
      ]
     },
     "execution_count": 97,
     "metadata": {},
     "output_type": "execute_result"
    }
   ],
   "source": [
    "numbers = '17'\n",
    "solution(numbers)"
   ]
  },
  {
   "cell_type": "code",
   "execution_count": 89,
   "id": "d0df3392",
   "metadata": {
    "scrolled": true
   },
   "outputs": [
    {
     "name": "stdout",
     "output_type": "stream",
     "text": [
      "3\n"
     ]
    }
   ],
   "source": [
    "#소수 판별하기!!!\n",
    "buk=['1', '71', '7', '17']\n",
    "result=[]\n",
    "for number in list(map(int,buk)):\n",
    "    if number == 1 :\n",
    "        pass\n",
    "    elif number % 2 == 1:\n",
    "        result.append(number)\n",
    "len(result)    "
   ]
  },
  {
   "cell_type": "code",
   "execution_count": 49,
   "id": "62d344d3",
   "metadata": {},
   "outputs": [
    {
     "data": {
      "text/plain": [
       "[1, 71, 7, 17]"
      ]
     },
     "execution_count": 49,
     "metadata": {},
     "output_type": "execute_result"
    }
   ],
   "source": [
    "문자열\n",
    "a=['1', '71', '7', '17']\n",
    "list(map(int,a))"
   ]
  },
  {
   "cell_type": "code",
   "execution_count": null,
   "id": "fccca3ea",
   "metadata": {},
   "outputs": [],
   "source": [
    "#소수 구하는법 공부하기"
   ]
  },
  {
   "cell_type": "code",
   "execution_count": 119,
   "id": "3d2f51e3",
   "metadata": {},
   "outputs": [],
   "source": [
    "def prime_number(number):   \n",
    "    if number != 1:                #1은 소수가아니다 일단 재끼고 나머지를 만족하면\n",
    "        for f in range(2, number): #범위를 지정해주자 내가원하는 number까지\n",
    "            if number % f == 0:\n",
    "                print(f'여기{number}번째 return')\n",
    "                return False       #내가 원하는 수까지 f로 나누어 떨어지면 소수가 아니다\n",
    "    else:\n",
    "        print(f'{number}else')\n",
    "        return False              # 여기까지 계산이 마지막 계산이다. \n",
    "    print(f'{number}마지막')\n",
    "    return number                  # 마지막 계산한것이 내가원하는 값이면 보여줘 그게아니라면 바로 위 retrun에서 걸러줘"
   ]
  },
  {
   "cell_type": "code",
   "execution_count": 121,
   "id": "24ebd5b4",
   "metadata": {},
   "outputs": [
    {
     "name": "stdout",
     "output_type": "stream",
     "text": [
      "71마지막\n"
     ]
    },
    {
     "data": {
      "text/plain": [
       "71"
      ]
     },
     "execution_count": 121,
     "metadata": {},
     "output_type": "execute_result"
    }
   ],
   "source": [
    "prime_number(71)"
   ]
  },
  {
   "cell_type": "code",
   "execution_count": null,
   "id": "76e9401d",
   "metadata": {},
   "outputs": [],
   "source": []
  }
 ],
 "metadata": {
  "kernelspec": {
   "display_name": "Python 3",
   "language": "python",
   "name": "python3"
  },
  "language_info": {
   "codemirror_mode": {
    "name": "ipython",
    "version": 3
   },
   "file_extension": ".py",
   "mimetype": "text/x-python",
   "name": "python",
   "nbconvert_exporter": "python",
   "pygments_lexer": "ipython3",
   "version": "3.8.11"
  }
 },
 "nbformat": 4,
 "nbformat_minor": 5
}
