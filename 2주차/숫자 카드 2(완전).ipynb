{
 "cells": [
  {
   "cell_type": "markdown",
   "id": "a8a2c0af",
   "metadata": {},
   "source": [
    "문제"
   ]
  },
  {
   "cell_type": "markdown",
   "id": "94664f3e",
   "metadata": {},
   "source": [
    "숫자 카드는 정수 하나가 적혀져 있는 카드이다.<br>\n",
    "상근이는 숫자 카드 N개를 가지고 있다.<br>\n",
    "정수 M개가 주어졌을 때, 이 수가 적혀있는 숫자 카드를 상근이가 몇 개 가지고 있는지 구하는 프로그램을 작성하시오."
   ]
  },
  {
   "cell_type": "markdown",
   "id": "1f7c8e4d",
   "metadata": {},
   "source": [
    "입력"
   ]
  },
  {
   "cell_type": "markdown",
   "id": "504b4cad",
   "metadata": {},
   "source": [
    "첫째 줄에 상근이가 가지고 있는 숫자 카드의 개수 N(1 ≤ N ≤ 500,000)이 주어진다.<br>\n",
    "둘째 줄에는 숫자 카드에 적혀있는 정수가 주어진다.숫자 카드에 적혀있는 수는 -10,000,000보다 크거나 같고, 10,000,000보다 작거나 같다.<br>\n",
    "셋째 줄에는 M(1 ≤ M ≤ 500,000)이 주어진다. <br>\n",
    "넷째 줄에는 상근이가 몇 개 가지고 있는 숫자 카드인지 구해야 할 M개의 정수가 주어지며, <br>\n",
    "\n",
    "이 수는 공백으로 구분되어져 있다. 이 수도 -10,000,000보다 크거나 같고, 10,000,000보다 작거나 같다.<br>"
   ]
  },
  {
   "cell_type": "markdown",
   "id": "1d669bf6",
   "metadata": {},
   "source": [
    "|첫줄|상근이가 가지고있는 카드수 : 10| |\n",
    "|---|---|---|\n",
    "|둘째 |숫자 카드에 적혀있는 정수 :6 3 2 10 10 10 -10 -10 7 3| |\n",
    "|셋째 |숫자 카드의 수 : 8| |\n",
    "|넷째 |상근이가 구해야 할 M개의 정수들 :10  9  -5  2  3  4  5  -10| |\n",
    "\n",
    "|예제출력|\n",
    "|---|\n",
    "|3 0 0 1 2 0 0 2|\n",
    "|10=3,2=1,3=2,-10 =2|"
   ]
  },
  {
   "cell_type": "markdown",
   "id": "ad6d61a9",
   "metadata": {},
   "source": [
    "결국<br>\n",
    "주어지는 카드수는 10장<br>\n",
    "주어진 카드의 종류들 <br>\n",
    "상근이가 들고있는 카드 수<br>\n",
    "상근이가 들고있는 카드를 들<br>\n",
    "\n",
    "출력) 주어진 카드를 대조하여 몇개있는지 차레로 넣으면 된다."
   ]
  },
  {
   "cell_type": "code",
   "execution_count": null,
   "id": "ade13262",
   "metadata": {},
   "outputs": [],
   "source": [
    "#백준 정답용 완전탐색 (시간초과)\n",
    "import sys\n",
    "N = int(sys.stdin.readline().rstrip())\n",
    "arrN = list(map(int, sys.stdin.readline().rstrip().split()))\n",
    "M = int(sys.stdin.readline().rstrip())\n",
    "arrM = list(map(int, sys.stdin.readline().rstrip().split()))\n",
    "\n",
    "score = [0]*M\n",
    "for i in range(N):\n",
    "    for j in range(M):\n",
    "        if arrN[i] == arrM[j%M]:\n",
    "            score[j] += 1\n",
    "sscore=list(map(str,score))\n",
    "result=' '.join(sscore)\n",
    "result"
   ]
  },
  {
   "cell_type": "code",
   "execution_count": null,
   "id": "5c14aabe",
   "metadata": {},
   "outputs": [],
   "source": []
  },
  {
   "cell_type": "code",
   "execution_count": null,
   "id": "46f913d3",
   "metadata": {},
   "outputs": [],
   "source": []
  },
  {
   "cell_type": "code",
   "execution_count": null,
   "id": "c768ad39",
   "metadata": {},
   "outputs": [],
   "source": []
  }
 ],
 "metadata": {
  "kernelspec": {
   "display_name": "Python 3",
   "language": "python",
   "name": "python3"
  },
  "language_info": {
   "codemirror_mode": {
    "name": "ipython",
    "version": 3
   },
   "file_extension": ".py",
   "mimetype": "text/x-python",
   "name": "python",
   "nbconvert_exporter": "python",
   "pygments_lexer": "ipython3",
   "version": "3.8.11"
  }
 },
 "nbformat": 4,
 "nbformat_minor": 5
}
