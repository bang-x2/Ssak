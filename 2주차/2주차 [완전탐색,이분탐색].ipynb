{
 "cells": [
  {
   "cell_type": "markdown",
   "id": "aeb5d708",
   "metadata": {},
   "source": [
    "# 완전탐색"
   ]
  },
  {
   "cell_type": "code",
   "execution_count": 1,
   "id": "2d017e7b",
   "metadata": {},
   "outputs": [],
   "source": [
    "#완전탐색 구현방법"
   ]
  },
  {
   "cell_type": "markdown",
   "id": "bdbf870f",
   "metadata": {},
   "source": [
    "\n",
    "|반복문  |재귀함수|\n",
    "|---|---|\n",
    "| |동적 계획법 |\n",
    "||백트래킹|\n",
    "||탐욕법|"
   ]
  },
  {
   "cell_type": "markdown",
   "id": "2ccc18eb",
   "metadata": {},
   "source": [
    "# 반복문"
   ]
  },
  {
   "cell_type": "code",
   "execution_count": 13,
   "id": "ca8d69a0",
   "metadata": {},
   "outputs": [],
   "source": [
    "def solution(trump):\n",
    "    for i in range(len(trump)):\n",
    "        if trump[i] == 8:\n",
    "            return i\n",
    "    return -1"
   ]
  },
  {
   "cell_type": "code",
   "execution_count": 15,
   "id": "63559b02",
   "metadata": {},
   "outputs": [
    {
     "data": {
      "text/plain": [
       "8"
      ]
     },
     "execution_count": 15,
     "metadata": {},
     "output_type": "execute_result"
    }
   ],
   "source": [
    "trump=[0,1,2,3,4,5,6,7,8,9,10]\n",
    "\n",
    "solution(trump)"
   ]
  },
  {
   "cell_type": "markdown",
   "id": "bf85cb74",
   "metadata": {},
   "source": [
    "# 재귀함수"
   ]
  },
  {
   "cell_type": "code",
   "execution_count": 8,
   "id": "23085d56",
   "metadata": {},
   "outputs": [],
   "source": [
    "def solution(trump, loc):\n",
    "    if trump[loc] == 8:\n",
    "        return loc\n",
    "    else:\n",
    "        return solution(trump, loc+1)"
   ]
  },
  {
   "cell_type": "code",
   "execution_count": 10,
   "id": "2bcbe28f",
   "metadata": {},
   "outputs": [
    {
     "ename": "IndexError",
     "evalue": "list index out of range",
     "output_type": "error",
     "traceback": [
      "\u001b[1;31m---------------------------------------------------------------------------\u001b[0m",
      "\u001b[1;31mIndexError\u001b[0m                                Traceback (most recent call last)",
      "\u001b[1;32m<ipython-input-10-81260e882035>\u001b[0m in \u001b[0;36m<module>\u001b[1;34m\u001b[0m\n\u001b[0;32m      1\u001b[0m \u001b[0mtrump\u001b[0m\u001b[1;33m=\u001b[0m\u001b[1;33m[\u001b[0m\u001b[1;36m1\u001b[0m\u001b[1;33m,\u001b[0m\u001b[1;36m2\u001b[0m\u001b[1;33m,\u001b[0m\u001b[1;36m3\u001b[0m\u001b[1;33m,\u001b[0m\u001b[1;36m4\u001b[0m\u001b[1;33m,\u001b[0m\u001b[1;36m5\u001b[0m\u001b[1;33m,\u001b[0m\u001b[1;36m6\u001b[0m\u001b[1;33m,\u001b[0m\u001b[1;36m7\u001b[0m\u001b[1;33m,\u001b[0m\u001b[1;36m8\u001b[0m\u001b[1;33m,\u001b[0m\u001b[1;36m9\u001b[0m\u001b[1;33m,\u001b[0m\u001b[1;36m10\u001b[0m\u001b[1;33m]\u001b[0m\u001b[1;33m\u001b[0m\u001b[1;33m\u001b[0m\u001b[0m\n\u001b[0;32m      2\u001b[0m \u001b[0mloc\u001b[0m \u001b[1;33m=\u001b[0m \u001b[1;36m10\u001b[0m\u001b[1;33m\u001b[0m\u001b[1;33m\u001b[0m\u001b[0m\n\u001b[1;32m----> 3\u001b[1;33m \u001b[0msolution\u001b[0m\u001b[1;33m(\u001b[0m\u001b[0mtrump\u001b[0m\u001b[1;33m,\u001b[0m\u001b[0mloc\u001b[0m\u001b[1;33m)\u001b[0m\u001b[1;33m\u001b[0m\u001b[1;33m\u001b[0m\u001b[0m\n\u001b[0m",
      "\u001b[1;32m<ipython-input-8-dfc08a2b9859>\u001b[0m in \u001b[0;36msolution\u001b[1;34m(trump, loc)\u001b[0m\n\u001b[0;32m      1\u001b[0m \u001b[1;32mdef\u001b[0m \u001b[0msolution\u001b[0m\u001b[1;33m(\u001b[0m\u001b[0mtrump\u001b[0m\u001b[1;33m,\u001b[0m \u001b[0mloc\u001b[0m\u001b[1;33m)\u001b[0m\u001b[1;33m:\u001b[0m\u001b[1;33m\u001b[0m\u001b[1;33m\u001b[0m\u001b[0m\n\u001b[1;32m----> 2\u001b[1;33m     \u001b[1;32mif\u001b[0m \u001b[0mtrump\u001b[0m\u001b[1;33m[\u001b[0m\u001b[0mloc\u001b[0m\u001b[1;33m]\u001b[0m \u001b[1;33m==\u001b[0m \u001b[1;36m8\u001b[0m\u001b[1;33m:\u001b[0m\u001b[1;33m\u001b[0m\u001b[1;33m\u001b[0m\u001b[0m\n\u001b[0m\u001b[0;32m      3\u001b[0m         \u001b[1;32mreturn\u001b[0m \u001b[0mloc\u001b[0m\u001b[1;33m\u001b[0m\u001b[1;33m\u001b[0m\u001b[0m\n\u001b[0;32m      4\u001b[0m     \u001b[1;32melse\u001b[0m\u001b[1;33m:\u001b[0m\u001b[1;33m\u001b[0m\u001b[1;33m\u001b[0m\u001b[0m\n\u001b[0;32m      5\u001b[0m         \u001b[1;32mreturn\u001b[0m \u001b[0msolution\u001b[0m\u001b[1;33m(\u001b[0m\u001b[0mtrump\u001b[0m\u001b[1;33m,\u001b[0m \u001b[0mloc\u001b[0m\u001b[1;33m+\u001b[0m\u001b[1;36m1\u001b[0m\u001b[1;33m)\u001b[0m\u001b[1;33m\u001b[0m\u001b[1;33m\u001b[0m\u001b[0m\n",
      "\u001b[1;31mIndexError\u001b[0m: list index out of range"
     ]
    }
   ],
   "source": [
    "trump=[1,2,3,4,5,6,7,8,9,10]\n",
    "loc = 10\n",
    "solution(trump,loc)"
   ]
  },
  {
   "cell_type": "markdown",
   "id": "e6bf9391",
   "metadata": {},
   "source": [
    "# 이분탐색"
   ]
  },
  {
   "cell_type": "markdown",
   "id": "40a46e95",
   "metadata": {},
   "source": [
    "이진검색이라고도 표현하며 오르차순으로 정렬된 리스트에서 특정 값의 위치를   \n",
    "찾는 알고리즘 중간의값을 선택하여 찾고자 하는 값과의 크고 작음을 비교하는 방법"
   ]
  },
  {
   "cell_type": "code",
   "execution_count": 6,
   "id": "8f284e2c",
   "metadata": {},
   "outputs": [],
   "source": [
    "def solution(trump):\n",
    "    left = 0                    # 함수 시작 시 left, right 선언\n",
    "    right = len(trump)-1        \n",
    "    while(left<=right):         # left가 right보다 작거나 같다면\n",
    "        mid = (left+right)//2   # mid 값 계산\n",
    "        if trump[mid] == 8:     \n",
    "            return mid          # 정답을 찾을면 반환\n",
    "        elif trump[mid] < 8:\n",
    "            left = mid+1        # 정답보다 작을 경우 left를 mid+1로\n",
    "        elif trump[mid] < 8:\n",
    "            right = mid-1       # 정답보다 클 경우 left를 mid-1로\n",
    "    return mid"
   ]
  },
  {
   "cell_type": "code",
   "execution_count": 7,
   "id": "81a68c14",
   "metadata": {},
   "outputs": [
    {
     "data": {
      "text/plain": [
       "7"
      ]
     },
     "execution_count": 7,
     "metadata": {},
     "output_type": "execute_result"
    }
   ],
   "source": [
    "trump=[1,2,3,4,5,6,7,8,9,10]\n",
    "solution(trump)"
   ]
  },
  {
   "cell_type": "code",
   "execution_count": null,
   "id": "97881eae",
   "metadata": {},
   "outputs": [],
   "source": []
  }
 ],
 "metadata": {
  "kernelspec": {
   "display_name": "Python 3",
   "language": "python",
   "name": "python3"
  },
  "language_info": {
   "codemirror_mode": {
    "name": "ipython",
    "version": 3
   },
   "file_extension": ".py",
   "mimetype": "text/x-python",
   "name": "python",
   "nbconvert_exporter": "python",
   "pygments_lexer": "ipython3",
   "version": "3.8.11"
  }
 },
 "nbformat": 4,
 "nbformat_minor": 5
}
