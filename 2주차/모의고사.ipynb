{
 "cells": [
  {
   "cell_type": "code",
   "execution_count": 1,
   "id": "11dabb85",
   "metadata": {},
   "outputs": [],
   "source": [
    "#range 를 5로 고정했다.\n",
    "def solution(answers):\n",
    "    num1 = [1, 2, 3, 4, 5]\n",
    "    num2 = [2, 1, 2, 3, 2, 4, 2, 5]\n",
    "    num3 = [3, 3, 1, 1, 2, 2, 4, 4, 5, 5]\n",
    "    answer1 = []\n",
    "    answer2 = []\n",
    "    answer3 = []\n",
    "    for i in range(len(answers)):\n",
    "        if (num1)[i] == (answers)[i]:\n",
    "            answer1.append(i)\n",
    "        if (num2)[i] == (answers)[i]:\n",
    "            answer2.append(i)\n",
    "        if (num3)[i] == (answers)[i]:\n",
    "            answer3.append(i)\n",
    "            if len(answer1) == len(answer2) == len(answer3):\n",
    "                return [1,2,3]\n",
    "    return [1]"
   ]
  },
  {
   "cell_type": "code",
   "execution_count": 2,
   "id": "414d64e1",
   "metadata": {},
   "outputs": [
    {
     "data": {
      "text/plain": [
       "[1, 2, 3]"
      ]
     },
     "execution_count": 2,
     "metadata": {},
     "output_type": "execute_result"
    }
   ],
   "source": [
    "answers =[1,3,2,4,2]\n",
    "solution(answers)"
   ]
  },
  {
   "cell_type": "markdown",
   "id": "bac9d012",
   "metadata": {},
   "source": [
    "위 풀이는 첫 번째롤 풀었을 때다.ㅜㅜ"
   ]
  },
  {
   "cell_type": "code",
   "execution_count": 17,
   "id": "3cd43843",
   "metadata": {},
   "outputs": [
    {
     "name": "stdout",
     "output_type": "stream",
     "text": [
      "68.2 ns ± 0.199 ns per loop (mean ± std. dev. of 7 runs, 10000000 loops each)\n"
     ]
    }
   ],
   "source": [
    "%%timeit\n",
    "def solution1(answers):\n",
    "    num1 = [1,2,3,4,5]\n",
    "    num2 = [2,1,2,3,2,4,2,5]\n",
    "    num3 = [3,3,1,1,2,2,4,4,5,5]\n",
    "    result = []\n",
    "    score = [0]*3\n",
    "    for i in range(len(num1)):\n",
    "        \n",
    "        print(f'{i}번째 계산 중입니다')\n",
    "        # \"먼저 2점, 이나 5점을 만들어주는 사람이 1등이다\"도 만들어 볼 수 있을 것 같다.\n",
    "        \n",
    "        if answers[i] == num1[i]:\n",
    "            score[0] += 1\n",
    "            \n",
    "            print(f'{score}1번 스코어{i}번째') \n",
    "            \n",
    "        if answers[i] == num2[i]:\n",
    "            score[1] += 1\n",
    "            \n",
    "            print(f'{score}2번 스코어{i}번째')\n",
    "            \n",
    "        if answers[i] == num3[i]:\n",
    "            score[2] += 1\n",
    "            \n",
    "            print(f'{score}3번 스코어{i}번째')\n",
    "    print(f'answer{answers}에 맞는\\n1번,2번,3번 학생의 점수는\\n{score} 입니다')\n",
    "    \n",
    "    for i, s in enumerate(score):\n",
    "        if s == max(score):\n",
    "            result.append(i+1)\n",
    "            \n",
    "            print(f'result가{result}{i+1}번째 계산만에 나왔다')\n",
    "            \n",
    "    return result"
   ]
  },
  {
   "cell_type": "code",
   "execution_count": 18,
   "id": "63a9706e",
   "metadata": {},
   "outputs": [
    {
     "name": "stdout",
     "output_type": "stream",
     "text": [
      "0번째 계산 중입니다\n",
      "[1, 0, 0]1번 스코어0번째\n",
      "1번째 계산 중입니다\n",
      "[1, 0, 1]3번 스코어1번째\n",
      "2번째 계산 중입니다\n",
      "[1, 1, 1]2번 스코어2번째\n",
      "3번째 계산 중입니다\n",
      "[2, 1, 1]1번 스코어3번째\n",
      "4번째 계산 중입니다\n",
      "[2, 2, 1]2번 스코어4번째\n",
      "[2, 2, 2]3번 스코어4번째\n",
      "answer[1, 3, 2, 4, 2]에 맞는\n",
      "1번,2번,3번 학생의 점수는\n",
      "[2, 2, 2] 입니다\n",
      "result가[1]1번째 계산만에 나왔다\n",
      "result가[1, 2]2번째 계산만에 나왔다\n",
      "result가[1, 2, 3]3번째 계산만에 나왔다\n"
     ]
    },
    {
     "data": {
      "text/plain": [
       "[1, 2, 3]"
      ]
     },
     "execution_count": 18,
     "metadata": {},
     "output_type": "execute_result"
    }
   ],
   "source": [
    "answers =[1,3,2,4,2]\n",
    "solution1(answers)"
   ]
  },
  {
   "cell_type": "code",
   "execution_count": 5,
   "id": "1a2d2166",
   "metadata": {},
   "outputs": [],
   "source": [
    "# 다른사람들의 풀이 연구"
   ]
  },
  {
   "cell_type": "code",
   "execution_count": 26,
   "id": "6588ad05",
   "metadata": {},
   "outputs": [
    {
     "name": "stdout",
     "output_type": "stream",
     "text": [
      "69.1 ns ± 0.913 ns per loop (mean ± std. dev. of 7 runs, 10000000 loops each)\n"
     ]
    }
   ],
   "source": [
    "%%timeit\n",
    "def solution2(answers):\n",
    "    pattern1 = [1,2,3,4,5]\n",
    "    pattern2 = [2,1,2,3,2,4,2,5]\n",
    "    pattern3 = [3,3,1,1,2,2,4,4,5,5]\n",
    "    score = [0, 0, 0]\n",
    "    result = []\n",
    "\n",
    "    for idx, answer in enumerate(answers):\n",
    "        if answer == pattern1[idx%len(pattern1)]:\n",
    "            print(f'answer->{answer} pattern1->{pattern1} idx->{idx} lenpattern1->{len(pattern1)}')\n",
    "            score[0] += 1\n",
    "        if answer == pattern2[idx%len(pattern2)]:\n",
    "            print(f'answer->{answer} pattern2->{pattern2} idx->{idx} lenpattern2->{len(pattern2)}')\n",
    "            score[1] += 1\n",
    "        if answer == pattern3[idx%len(pattern3)]:\n",
    "            print(f'answer->{answer} pattern3->{pattern3} idx->{idx} lenpattern3->{len(pattern3)}')\n",
    "            score[2] += 1\n",
    "\n",
    "    for idx, s in enumerate(score):\n",
    "        if s == max(score):\n",
    "            result.append(idx+1)\n",
    "    \n",
    "    return result"
   ]
  },
  {
   "cell_type": "code",
   "execution_count": 27,
   "id": "47627197",
   "metadata": {},
   "outputs": [
    {
     "name": "stdout",
     "output_type": "stream",
     "text": [
      "answer->1 pattern1->[1, 2, 3, 4, 5] idx->0 lenpattern1->5\n",
      "answer->3 pattern3->[3, 3, 1, 1, 2, 2, 4, 4, 5, 5] idx->1 lenpattern3->10\n",
      "answer->2 pattern2->[2, 1, 2, 3, 2, 4, 2, 5] idx->2 lenpattern2->8\n",
      "answer->4 pattern1->[1, 2, 3, 4, 5] idx->3 lenpattern1->5\n",
      "answer->2 pattern2->[2, 1, 2, 3, 2, 4, 2, 5] idx->4 lenpattern2->8\n",
      "answer->2 pattern3->[3, 3, 1, 1, 2, 2, 4, 4, 5, 5] idx->4 lenpattern3->10\n"
     ]
    },
    {
     "data": {
      "text/plain": [
       "[1, 2, 3]"
      ]
     },
     "execution_count": 27,
     "metadata": {},
     "output_type": "execute_result"
    }
   ],
   "source": [
    "answers =[1,3,2,4,2]\n",
    "solution2(answers)"
   ]
  },
  {
   "cell_type": "markdown",
   "id": "d72c2a61",
   "metadata": {},
   "source": [
    "위에서 나와 다른점은 검증하는 곳인 것 같다. 나는 결과를 알고 있기에 5번만 반복하여 결과를 내었고  \n",
    "위 분은 answer과 pattern을 모두 비교해 검증을 한 것이다.  \n",
    "결과를 다가가기 위해서 주어진 문제인식과 조건들을 좀 더 신중히 살펴봐야겠다.  "
   ]
  },
  {
   "cell_type": "code",
   "execution_count": 25,
   "id": "60880003",
   "metadata": {},
   "outputs": [
    {
     "name": "stdout",
     "output_type": "stream",
     "text": [
      "68.6 ns ± 0.228 ns per loop (mean ± std. dev. of 7 runs, 10000000 loops each)\n"
     ]
    }
   ],
   "source": [
    "%%timeit\n",
    "def solution(answers):\n",
    "    p = [[1, 2, 3, 4, 5],\n",
    "         [2, 1, 2, 3, 2, 4, 2, 5],\n",
    "         [3, 3, 1, 1, 2, 2, 4, 4, 5, 5]]\n",
    "    s = [0] * len(p)\n",
    "\n",
    "    for q, a in enumerate(answers):\n",
    "        for i, v in enumerate(p):\n",
    "            if a == v[q % len(v)]:\n",
    "                s[i] += 1\n",
    "    return [i + 1 for i, v in enumerate(s) if v == max(s)]\n"
   ]
  },
  {
   "cell_type": "markdown",
   "id": "0edb06fa",
   "metadata": {},
   "source": [
    "결국 같은 형식으로 풀이 된 것 이다. 단순해보여서 똑똑해보이지만 우리들이 봤을때는     \n",
    "시각적으로 봤을 때 이분이 어떻게 풀었는지 판단이 바로 안된다.  \n",
    "\n",
    "me = 68.2 ns ± 0.199 ns  \n",
    "other1 = 69.1 ns ± 0.913 ns   \n",
    "other2 = 68.6 ns ± 0.228 ns   \n",
    "\n",
    "하지만 컴퓨터가 계산할때는 3번째 분이 제일 빠르다고 나왔다.  \n",
    "우리가 볼때는 1번이 보기좋다  \n",
    "컴퓨터가 볼땐 2번이 보기좋다   \n"
   ]
  },
  {
   "cell_type": "code",
   "execution_count": null,
   "id": "98ec252a",
   "metadata": {},
   "outputs": [],
   "source": []
  }
 ],
 "metadata": {
  "kernelspec": {
   "display_name": "Python 3",
   "language": "python",
   "name": "python3"
  },
  "language_info": {
   "codemirror_mode": {
    "name": "ipython",
    "version": 3
   },
   "file_extension": ".py",
   "mimetype": "text/x-python",
   "name": "python",
   "nbconvert_exporter": "python",
   "pygments_lexer": "ipython3",
   "version": "3.8.11"
  }
 },
 "nbformat": 4,
 "nbformat_minor": 5
}
