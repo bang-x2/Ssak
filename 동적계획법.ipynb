{
 "cells": [
  {
   "cell_type": "markdown",
   "id": "2f682e81",
   "metadata": {},
   "source": [
    "다이나믹 프로그래밍 라고도 불리며,<br>\n",
    "하나의 큰문제를 여러 개의 공통되는 작은 문제로 나누어서<br>\n",
    "작은 문제의 정답들을 결합하여 알고리즘을 푸는 과정<br>"
   ]
  },
  {
   "cell_type": "code",
   "execution_count": 1,
   "id": "d90d8461",
   "metadata": {},
   "outputs": [],
   "source": [
    "def fib(n):\n",
    "    fibList = [1,1]\n",
    "    for i in range(2,n+1):\n",
    "        fibList.append(fibList[i-2] + fibList[i-1])\n",
    "    return fibList[-1]"
   ]
  },
  {
   "cell_type": "code",
   "execution_count": 13,
   "id": "af98de84",
   "metadata": {},
   "outputs": [
    {
     "data": {
      "text/plain": [
       "8"
      ]
     },
     "execution_count": 13,
     "metadata": {},
     "output_type": "execute_result"
    }
   ],
   "source": [
    "fib(5)"
   ]
  },
  {
   "cell_type": "code",
   "execution_count": null,
   "id": "d713b848",
   "metadata": {},
   "outputs": [],
   "source": [
    "def fib1(n):\n",
    "    if n == 0 or n ==1:\n",
    "        return 1\n",
    "    else:\n",
    "        return fib(n-1) + fib(n-2)"
   ]
  },
  {
   "cell_type": "markdown",
   "id": "f6c77ac9",
   "metadata": {},
   "source": [
    "문제점 : 중복 <br>\n",
    "해결 : 메모이 제이션(Memoization)"
   ]
  },
  {
   "cell_type": "code",
   "execution_count": 15,
   "id": "9a1e0c38",
   "metadata": {},
   "outputs": [],
   "source": [
    "\n",
    "def fib2(n):\n",
    "    memo = {0:1,1:1}\n",
    "    if n in memo:\n",
    "        return memo[n]\n",
    "    else:\n",
    "        result=fib(n-1) + fib(n-2)\n",
    "        memo[n] = result\n",
    "        return result"
   ]
  },
  {
   "cell_type": "code",
   "execution_count": 20,
   "id": "251ddfcc",
   "metadata": {},
   "outputs": [],
   "source": [
    "#동적계획법 예시\n",
    "\n",
    "def solution(data):\n",
    "    if len(data) == 1:\n",
    "        return data[0]\n",
    "    result = [data[0], max(data[0], data[1])]\n",
    "    for i in range(2,len(data)):\n",
    "        result.append(max(result[i-1], result[i-2]+data[i]))\n",
    "    return result[-1]\n",
    "        "
   ]
  },
  {
   "cell_type": "code",
   "execution_count": 21,
   "id": "ba6aa1d4",
   "metadata": {},
   "outputs": [
    {
     "data": {
      "text/plain": [
       "15"
      ]
     },
     "execution_count": 21,
     "metadata": {},
     "output_type": "execute_result"
    }
   ],
   "source": [
    "#이웃하지 않는 숫자들의 합의 최대값은?\n",
    "\n",
    "data = [3,4,5,6,1,2,5]\n",
    "solution(data)"
   ]
  },
  {
   "cell_type": "code",
   "execution_count": null,
   "id": "edcc090e",
   "metadata": {},
   "outputs": [],
   "source": []
  }
 ],
 "metadata": {
  "kernelspec": {
   "display_name": "Python 3 (ipykernel)",
   "language": "python",
   "name": "python3"
  },
  "language_info": {
   "codemirror_mode": {
    "name": "ipython",
    "version": 3
   },
   "file_extension": ".py",
   "mimetype": "text/x-python",
   "name": "python",
   "nbconvert_exporter": "python",
   "pygments_lexer": "ipython3",
   "version": "3.8.8"
  }
 },
 "nbformat": 4,
 "nbformat_minor": 5
}
