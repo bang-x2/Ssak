{
 "cells": [
  {
   "cell_type": "code",
   "execution_count": 1,
   "id": "801f7da1",
   "metadata": {},
   "outputs": [],
   "source": [
    "#해쉬 만들기\n",
    "hash = dict()\n",
    "hash[1] = 'apple'\n",
    "hash['banana'] = 3\n",
    "hash[(4,5)] = '[1,2,3]'\n",
    "hash[10] = {1:'a', 2:'b'}"
   ]
  },
  {
   "cell_type": "code",
   "execution_count": 2,
   "id": "7eb66ab2",
   "metadata": {},
   "outputs": [
    {
     "data": {
      "text/plain": [
       "{1: 'apple', 'banana': 3, (4, 5): '[1,2,3]', 10: {1: 'a', 2: 'b'}}"
      ]
     },
     "execution_count": 2,
     "metadata": {},
     "output_type": "execute_result"
    }
   ],
   "source": [
    "hash"
   ]
  },
  {
   "cell_type": "code",
   "execution_count": 3,
   "id": "ee9f97ba",
   "metadata": {},
   "outputs": [],
   "source": [
    "#해쉬 수정하기\n",
    "hash[1]='melon'\n",
    "hash['banana']=10"
   ]
  },
  {
   "cell_type": "code",
   "execution_count": 4,
   "id": "cce613eb",
   "metadata": {},
   "outputs": [
    {
     "data": {
      "text/plain": [
       "{1: 'melon', 'banana': 10, (4, 5): '[1,2,3]', 10: {1: 'a', 2: 'b'}}"
      ]
     },
     "execution_count": 4,
     "metadata": {},
     "output_type": "execute_result"
    }
   ],
   "source": [
    "hash"
   ]
  },
  {
   "cell_type": "code",
   "execution_count": 5,
   "id": "c12971a9",
   "metadata": {},
   "outputs": [
    {
     "data": {
      "text/plain": [
       "{'banana': 10, (4, 5): '[1,2,3]', 10: {1: 'a', 2: 'b'}}"
      ]
     },
     "execution_count": 5,
     "metadata": {},
     "output_type": "execute_result"
    }
   ],
   "source": [
    "#딕셔너리 값 추출\n",
    "hash.pop(1) #key값1 추출\n",
    "hash"
   ]
  },
  {
   "cell_type": "code",
   "execution_count": 6,
   "id": "8677ba56",
   "metadata": {},
   "outputs": [
    {
     "data": {
      "text/plain": [
       "{}"
      ]
     },
     "execution_count": 6,
     "metadata": {},
     "output_type": "execute_result"
    }
   ],
   "source": [
    "hash.pop('banana')\n",
    "hash.pop((4,5))\n",
    "hash.pop(10)\n",
    "hash"
   ]
  },
  {
   "cell_type": "code",
   "execution_count": 7,
   "id": "259467b7",
   "metadata": {},
   "outputs": [],
   "source": [
    "hash = dict()\n",
    "hash[1] = 'apple'\n",
    "hash['banana'] = 3\n",
    "hash[(4,5)] = '[1,2,3]'\n",
    "hash[10] = {1:'a', 2:'b'}"
   ]
  },
  {
   "cell_type": "code",
   "execution_count": 8,
   "id": "3dc5628a",
   "metadata": {},
   "outputs": [
    {
     "data": {
      "text/plain": [
       "{'banana': 3, (4, 5): '[1,2,3]', 10: {1: 'a', 2: 'b'}}"
      ]
     },
     "execution_count": 8,
     "metadata": {},
     "output_type": "execute_result"
    }
   ],
   "source": [
    "# 딕셔너리 값 삭제\n",
    "del hash[1]\n",
    "hash"
   ]
  },
  {
   "cell_type": "code",
   "execution_count": 9,
   "id": "23349dde",
   "metadata": {},
   "outputs": [
    {
     "data": {
      "text/plain": [
       "{}"
      ]
     },
     "execution_count": 9,
     "metadata": {},
     "output_type": "execute_result"
    }
   ],
   "source": [
    "del hash['banana']\n",
    "del hash[(4, 5)]\n",
    "del hash[10]\n",
    "hash"
   ]
  },
  {
   "cell_type": "code",
   "execution_count": 10,
   "id": "929b3c30",
   "metadata": {},
   "outputs": [],
   "source": [
    "#딕셔너리 활용\n",
    "#hash.keys()\n",
    "#hash.values()\n",
    "#hash.items()"
   ]
  },
  {
   "cell_type": "code",
   "execution_count": 11,
   "id": "589632b9",
   "metadata": {},
   "outputs": [
    {
     "data": {
      "text/plain": [
       "{1: 1, 2: 4, 3: 9, 4: 16, 5: 25}"
      ]
     },
     "execution_count": 11,
     "metadata": {},
     "output_type": "execute_result"
    }
   ],
   "source": [
    "hash = dict()\n",
    "for i in range(1,6):\n",
    "    hash[i] = i**2\n",
    "hash"
   ]
  },
  {
   "cell_type": "code",
   "execution_count": 12,
   "id": "e3a6b6e6",
   "metadata": {},
   "outputs": [
    {
     "name": "stdout",
     "output_type": "stream",
     "text": [
      "1\n",
      "2\n",
      "3\n",
      "4\n",
      "5\n"
     ]
    }
   ],
   "source": [
    "#key 값 출력\n",
    "for k in hash.keys():\n",
    "    print(k)"
   ]
  },
  {
   "cell_type": "code",
   "execution_count": 13,
   "id": "952199f1",
   "metadata": {},
   "outputs": [
    {
     "name": "stdout",
     "output_type": "stream",
     "text": [
      "1\n",
      "4\n",
      "9\n",
      "16\n",
      "25\n"
     ]
    }
   ],
   "source": [
    "#value 값 출력\n",
    "for v in hash.values():\n",
    "    print(v)"
   ]
  },
  {
   "cell_type": "code",
   "execution_count": 14,
   "id": "c6f86060",
   "metadata": {},
   "outputs": [
    {
     "name": "stdout",
     "output_type": "stream",
     "text": [
      "1 1\n",
      "2 4\n",
      "3 9\n",
      "4 16\n",
      "5 25\n"
     ]
    }
   ],
   "source": [
    "#key,value 값 동시출력\n",
    "\n",
    "for k,v in hash.items():\n",
    "    print(k,v)"
   ]
  },
  {
   "cell_type": "code",
   "execution_count": 15,
   "id": "87bbe92b",
   "metadata": {},
   "outputs": [],
   "source": [
    "#딕셔너리 정렬\n",
    "#sorted()\n",
    "#리스트타입 반환"
   ]
  },
  {
   "cell_type": "code",
   "execution_count": 16,
   "id": "a9544c1b",
   "metadata": {},
   "outputs": [
    {
     "data": {
      "text/plain": [
       "{1: 10, 3: 12, 5: 7, 7: 6, 4: 5}"
      ]
     },
     "execution_count": 16,
     "metadata": {},
     "output_type": "execute_result"
    }
   ],
   "source": [
    "hash = dict({1:10,3:12,5:7,7:6,4:5})\n",
    "hash"
   ]
  },
  {
   "cell_type": "code",
   "execution_count": 17,
   "id": "f92ad5e8",
   "metadata": {},
   "outputs": [
    {
     "data": {
      "text/plain": [
       "[1, 3, 4, 5, 7]"
      ]
     },
     "execution_count": 17,
     "metadata": {},
     "output_type": "execute_result"
    }
   ],
   "source": [
    "#key 오름차순 정렬\n",
    "sorted(hash.keys(), key = lambda x:x)"
   ]
  },
  {
   "cell_type": "code",
   "execution_count": 18,
   "id": "152792b6",
   "metadata": {},
   "outputs": [
    {
     "data": {
      "text/plain": [
       "[5, 6, 7, 10, 12]"
      ]
     },
     "execution_count": 18,
     "metadata": {},
     "output_type": "execute_result"
    }
   ],
   "source": [
    "#value 오름차순 정렬\n",
    "sorted(hash.values(), key = lambda x:x)"
   ]
  },
  {
   "cell_type": "code",
   "execution_count": 19,
   "id": "e663cb30",
   "metadata": {},
   "outputs": [
    {
     "data": {
      "text/plain": [
       "[(1, 10), (3, 12), (4, 5), (5, 7), (7, 6)]"
      ]
     },
     "execution_count": 19,
     "metadata": {},
     "output_type": "execute_result"
    }
   ],
   "source": [
    "#item 오름차순 정렬\n",
    "sorted(hash.items(), key = lambda x:x) #key 값에 의해 정렬된다"
   ]
  },
  {
   "cell_type": "code",
   "execution_count": 20,
   "id": "236c1ab9",
   "metadata": {},
   "outputs": [
    {
     "data": {
      "text/plain": [
       "[7, 5, 4, 3, 1]"
      ]
     },
     "execution_count": 20,
     "metadata": {},
     "output_type": "execute_result"
    }
   ],
   "source": [
    "#key 값에 의한 내림차순 정렬\n",
    "sorted(hash.keys(), key = lambda x:-x)"
   ]
  },
  {
   "cell_type": "code",
   "execution_count": 21,
   "id": "bb57fe33",
   "metadata": {},
   "outputs": [
    {
     "data": {
      "text/plain": [
       "[12, 10, 7, 6, 5]"
      ]
     },
     "execution_count": 21,
     "metadata": {},
     "output_type": "execute_result"
    }
   ],
   "source": [
    "#value 값에 의한 내림차순 정렬\n",
    "sorted(hash.values(), key = lambda x:-x)"
   ]
  },
  {
   "cell_type": "code",
   "execution_count": 22,
   "id": "77e6d53e",
   "metadata": {},
   "outputs": [
    {
     "ename": "TypeError",
     "evalue": "bad operand type for unary -: 'tuple'",
     "output_type": "error",
     "traceback": [
      "\u001b[1;31m---------------------------------------------------------------------------\u001b[0m",
      "\u001b[1;31mTypeError\u001b[0m                                 Traceback (most recent call last)",
      "\u001b[1;32m~\\AppData\\Local\\Temp/ipykernel_9384/2891292591.py\u001b[0m in \u001b[0;36m<module>\u001b[1;34m\u001b[0m\n\u001b[0;32m      1\u001b[0m \u001b[1;31m#item 내림차순 정렬\u001b[0m\u001b[1;33m\u001b[0m\u001b[1;33m\u001b[0m\u001b[1;33m\u001b[0m\u001b[0m\n\u001b[1;32m----> 2\u001b[1;33m \u001b[0msorted\u001b[0m\u001b[1;33m(\u001b[0m\u001b[0mhash\u001b[0m\u001b[1;33m.\u001b[0m\u001b[0mitems\u001b[0m\u001b[1;33m(\u001b[0m\u001b[1;33m)\u001b[0m\u001b[1;33m,\u001b[0m \u001b[0mkey\u001b[0m \u001b[1;33m=\u001b[0m \u001b[1;32mlambda\u001b[0m \u001b[0mx\u001b[0m\u001b[1;33m:\u001b[0m\u001b[1;33m-\u001b[0m\u001b[0mx\u001b[0m\u001b[1;33m)\u001b[0m \u001b[1;31m#key 에러가 난다\u001b[0m\u001b[1;33m\u001b[0m\u001b[1;33m\u001b[0m\u001b[0m\n\u001b[0m",
      "\u001b[1;32m~\\AppData\\Local\\Temp/ipykernel_9384/2891292591.py\u001b[0m in \u001b[0;36m<lambda>\u001b[1;34m(x)\u001b[0m\n\u001b[0;32m      1\u001b[0m \u001b[1;31m#item 내림차순 정렬\u001b[0m\u001b[1;33m\u001b[0m\u001b[1;33m\u001b[0m\u001b[1;33m\u001b[0m\u001b[0m\n\u001b[1;32m----> 2\u001b[1;33m \u001b[0msorted\u001b[0m\u001b[1;33m(\u001b[0m\u001b[0mhash\u001b[0m\u001b[1;33m.\u001b[0m\u001b[0mitems\u001b[0m\u001b[1;33m(\u001b[0m\u001b[1;33m)\u001b[0m\u001b[1;33m,\u001b[0m \u001b[0mkey\u001b[0m \u001b[1;33m=\u001b[0m \u001b[1;32mlambda\u001b[0m \u001b[0mx\u001b[0m\u001b[1;33m:\u001b[0m\u001b[1;33m-\u001b[0m\u001b[0mx\u001b[0m\u001b[1;33m)\u001b[0m \u001b[1;31m#key 에러가 난다\u001b[0m\u001b[1;33m\u001b[0m\u001b[1;33m\u001b[0m\u001b[0m\n\u001b[0m",
      "\u001b[1;31mTypeError\u001b[0m: bad operand type for unary -: 'tuple'"
     ]
    }
   ],
   "source": [
    "#item 내림차순 정렬\n",
    "sorted(hash.items(), key = lambda x:-x) #key 에러가 난다"
   ]
  },
  {
   "cell_type": "markdown",
   "id": "ae511748",
   "metadata": {},
   "source": [
    "튜플에 -를 해줄 수 없기 때문이다."
   ]
  },
  {
   "cell_type": "code",
   "execution_count": 23,
   "id": "55ce0c38",
   "metadata": {},
   "outputs": [
    {
     "data": {
      "text/plain": [
       "[(7, 6), (5, 7), (4, 5), (3, 12), (1, 10)]"
      ]
     },
     "execution_count": 23,
     "metadata": {},
     "output_type": "execute_result"
    }
   ],
   "source": [
    "#item 내림차순 정렬\n",
    "sorted(hash.items(), key = lambda x:-x[0]) #튜플의 첫 번째 요소를 지정하면 key로 내림차순이 가능하다."
   ]
  },
  {
   "cell_type": "code",
   "execution_count": 24,
   "id": "0fe4a068",
   "metadata": {},
   "outputs": [
    {
     "data": {
      "text/plain": [
       "[(3, 12), (1, 10), (5, 7), (7, 6), (4, 5)]"
      ]
     },
     "execution_count": 24,
     "metadata": {},
     "output_type": "execute_result"
    }
   ],
   "source": [
    "sorted(hash.items(), key = lambda x:-x[1]) #튜플의 두 번째 요소를 지정하면 value로 내림차순이 가능하다."
   ]
  },
  {
   "cell_type": "code",
   "execution_count": 25,
   "id": "abcad6b1",
   "metadata": {},
   "outputs": [
    {
     "data": {
      "text/plain": [
       "[(4, 5), (7, 6), (5, 7), (1, 10), (3, 12)]"
      ]
     },
     "execution_count": 25,
     "metadata": {},
     "output_type": "execute_result"
    }
   ],
   "source": [
    "sorted(hash.items(), key = lambda x:(x[1],x[0])) # [1] , [0]오름 차순"
   ]
  },
  {
   "cell_type": "code",
   "execution_count": null,
   "id": "e0a64da0",
   "metadata": {},
   "outputs": [],
   "source": []
  }
 ],
 "metadata": {
  "kernelspec": {
   "display_name": "Python 3 (ipykernel)",
   "language": "python",
   "name": "python3"
  },
  "language_info": {
   "codemirror_mode": {
    "name": "ipython",
    "version": 3
   },
   "file_extension": ".py",
   "mimetype": "text/x-python",
   "name": "python",
   "nbconvert_exporter": "python",
   "pygments_lexer": "ipython3",
   "version": "3.8.8"
  }
 },
 "nbformat": 4,
 "nbformat_minor": 5
}
