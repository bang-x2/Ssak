{
 "cells": [
  {
   "cell_type": "code",
   "execution_count": 154,
   "id": "e64ec546",
   "metadata": {},
   "outputs": [
    {
     "name": "stdout",
     "output_type": "stream",
     "text": [
      "53\n"
     ]
    },
    {
     "data": {
      "text/plain": [
       "110101"
      ]
     },
     "execution_count": 154,
     "metadata": {},
     "output_type": "execute_result"
    }
   ],
   "source": [
    "n = int(input())\n",
    "int(bin(n)[2:])"
   ]
  },
  {
   "cell_type": "code",
   "execution_count": 152,
   "id": "4717f631",
   "metadata": {},
   "outputs": [],
   "source": [
    "#타임에러\n",
    "self = int(input())\n",
    "def notation2(self):\n",
    "    s=[]\n",
    "    while len(s) < 6:\n",
    "        a,b = self//2,self%2\n",
    "        s.append(b)\n",
    "        self = a\n",
    "    return int(''.join(reversed(list(map(str,s)))))"
   ]
  },
  {
   "cell_type": "code",
   "execution_count": 153,
   "id": "0f1e8caf",
   "metadata": {},
   "outputs": [
    {
     "data": {
      "text/plain": [
       "110101"
      ]
     },
     "execution_count": 153,
     "metadata": {},
     "output_type": "execute_result"
    }
   ],
   "source": [
    "notation2(53)"
   ]
  }
 ],
 "metadata": {
  "kernelspec": {
   "display_name": "Python 3",
   "language": "python",
   "name": "python3"
  },
  "language_info": {
   "codemirror_mode": {
    "name": "ipython",
    "version": 3
   },
   "file_extension": ".py",
   "mimetype": "text/x-python",
   "name": "python",
   "nbconvert_exporter": "python",
   "pygments_lexer": "ipython3",
   "version": "3.8.8"
  }
 },
 "nbformat": 4,
 "nbformat_minor": 5
}
