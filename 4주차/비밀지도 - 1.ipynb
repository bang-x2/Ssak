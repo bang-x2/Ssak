{
 "cells": [
  {
   "cell_type": "markdown",
   "id": "dfdeae28",
   "metadata": {},
   "source": [
    "문제점"
   ]
  },
  {
   "cell_type": "markdown",
   "id": "c7b7ecf1",
   "metadata": {},
   "source": [
    "진법 덧셈은 어떻게하지.... 문자열에서 정수로 변환만 가능하면 바로 풀릴 것 같은데 ..."
   ]
  },
  {
   "cell_type": "code",
   "execution_count": 50,
   "id": "866bd9de",
   "metadata": {},
   "outputs": [
    {
     "data": {
      "text/plain": [
       "'0b11111'"
      ]
     },
     "execution_count": 50,
     "metadata": {},
     "output_type": "execute_result"
    }
   ],
   "source": [
    "bin(9|30)"
   ]
  },
  {
   "cell_type": "markdown",
   "id": "ebd10637",
   "metadata": {},
   "source": [
    "# 발견!"
   ]
  },
  {
   "cell_type": "markdown",
   "id": "c227e4d6",
   "metadata": {},
   "source": [
    "바로 풀어보자"
   ]
  },
  {
   "cell_type": "code",
   "execution_count": 59,
   "id": "0ed3d7f0",
   "metadata": {},
   "outputs": [],
   "source": [
    "arr1 = [9, 20, 28, 18, 11]\n",
    "arr2 = [30, 1, 21, 17, 28]\n",
    "n=5"
   ]
  },
  {
   "cell_type": "code",
   "execution_count": 67,
   "id": "8c807500",
   "metadata": {},
   "outputs": [],
   "source": [
    "#첫번째 문제만 통과....\n",
    "def solution(n, arr1, arr2):\n",
    "    answer = []\n",
    "    [answer.append(bin(arr1[i] | arr2[i])[2:].replace('1','#').replace('0',' ')) for i in range(n)]    \n",
    "    return answer"
   ]
  },
  {
   "cell_type": "code",
   "execution_count": 68,
   "id": "e74b4e77",
   "metadata": {},
   "outputs": [
    {
     "data": {
      "text/plain": [
       "['#####', '# # #', '### #', '#  ##', '#####']"
      ]
     },
     "execution_count": 68,
     "metadata": {},
     "output_type": "execute_result"
    }
   ],
   "source": [
    "solution(n, arr1, arr2)"
   ]
  },
  {
   "cell_type": "code",
   "execution_count": 12,
   "id": "b23beb9e",
   "metadata": {},
   "outputs": [],
   "source": [
    "arr1 = [46, 33, 33 ,22, 31, 50]\n",
    "arr2 = [27 ,56, 19, 14, 14, 10]\n",
    "n = 6"
   ]
  },
  {
   "cell_type": "code",
   "execution_count": 15,
   "id": "54c32d31",
   "metadata": {},
   "outputs": [],
   "source": [
    "#두번째 문제x\n",
    "def solution(n, arr1, arr2):\n",
    "    answer = []\n",
    "    for i in range(n):\n",
    "        a=bin(arr1[i] | arr2[i])\n",
    "        a=a[2:]\n",
    "        a=a.replace('1','#').replace('0',' ')\n",
    "        answer.append(a)\n",
    "    return answer"
   ]
  },
  {
   "cell_type": "code",
   "execution_count": 16,
   "id": "f8c95af4",
   "metadata": {},
   "outputs": [
    {
     "data": {
      "text/plain": [
       "['######', '###  #', '##  ##', '#### ', '#####', '### # ']"
      ]
     },
     "execution_count": 16,
     "metadata": {},
     "output_type": "execute_result"
    }
   ],
   "source": [
    "solution(n, arr1, arr2)"
   ]
  },
  {
   "cell_type": "markdown",
   "id": "6ad0313c",
   "metadata": {},
   "source": [
    "다시 도전!"
   ]
  },
  {
   "cell_type": "code",
   "execution_count": null,
   "id": "45fb716d",
   "metadata": {},
   "outputs": [],
   "source": [
    "arr1 = [46, 33, 33 ,22, 31, 50]\n",
    "arr2 = [27 ,56, 19, 14, 14, 10]\n",
    "n = 6"
   ]
  },
  {
   "cell_type": "code",
   "execution_count": 17,
   "id": "e996298c",
   "metadata": {},
   "outputs": [
    {
     "name": "stdout",
     "output_type": "stream",
     "text": [
      "0b111111\n",
      "0b111001\n",
      "0b110011\n",
      "0b11110\n",
      "0b11111\n",
      "0b111010\n"
     ]
    }
   ],
   "source": [
    "answer = []\n",
    "for i in range(n):\n",
    "    a=bin(arr1[i] | arr2[i])\n",
    "    \n",
    "    print(a)\n",
    "#     a=a[2:]\n",
    "#     a=a.replace('1','#').replace('0',' ')\n",
    "#     answer.append(a)\n"
   ]
  },
  {
   "cell_type": "markdown",
   "id": "b4574052",
   "metadata": {},
   "source": [
    "4번째5번째 개수가 안 맞다. 채워줄 필요가 보인다."
   ]
  },
  {
   "cell_type": "code",
   "execution_count": 33,
   "id": "8f6dda90",
   "metadata": {},
   "outputs": [
    {
     "data": {
      "text/plain": [
       "'011110'"
      ]
     },
     "execution_count": 33,
     "metadata": {},
     "output_type": "execute_result"
    }
   ],
   "source": [
    "'0b11110'[2:].zfill(6)"
   ]
  },
  {
   "cell_type": "code",
   "execution_count": 37,
   "id": "40d59c5f",
   "metadata": {},
   "outputs": [],
   "source": [
    "#성공!\n",
    "def solution(n, arr1, arr2):\n",
    "    answer = []\n",
    "    for i in range(n):\n",
    "        a=bin(arr1[i] | arr2[i])\n",
    "        a=a[2:].zfill(n) #n칸 만큼인데 빈곳을 '0'으로 채워라!\n",
    "        a=a.replace('1','#').replace('0',' ')\n",
    "        answer.append(a)\n",
    "    return(answer)"
   ]
  },
  {
   "cell_type": "code",
   "execution_count": 38,
   "id": "8ada7a20",
   "metadata": {},
   "outputs": [
    {
     "data": {
      "text/plain": [
       "['######', '###  #', '##  ##', ' #### ', ' #####', '### # ']"
      ]
     },
     "execution_count": 38,
     "metadata": {},
     "output_type": "execute_result"
    }
   ],
   "source": [
    "solution(n, arr1, arr2)"
   ]
  },
  {
   "cell_type": "code",
   "execution_count": null,
   "id": "870e9f18",
   "metadata": {},
   "outputs": [],
   "source": []
  }
 ],
 "metadata": {
  "kernelspec": {
   "display_name": "Python 3",
   "language": "python",
   "name": "python3"
  },
  "language_info": {
   "codemirror_mode": {
    "name": "ipython",
    "version": 3
   },
   "file_extension": ".py",
   "mimetype": "text/x-python",
   "name": "python",
   "nbconvert_exporter": "python",
   "pygments_lexer": "ipython3",
   "version": "3.8.8"
  }
 },
 "nbformat": 4,
 "nbformat_minor": 5
}
