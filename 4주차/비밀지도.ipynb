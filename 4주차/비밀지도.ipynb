{
 "cells": [
  {
   "cell_type": "code",
   "execution_count": 219,
   "id": "fafa126c",
   "metadata": {},
   "outputs": [],
   "source": [
    "arr1 = [9, 20, 28, 18, 11]\n",
    "arr2 = [30, 1, 21, 17, 28]\n",
    "출력 = [\"#####\",\"# # #\", \"### #\", \"# ##\", \"#####\"]"
   ]
  },
  {
   "cell_type": "code",
   "execution_count": 151,
   "id": "047d805a",
   "metadata": {},
   "outputs": [],
   "source": [
    "arr3=[46, 33, 33 ,22, 31, 50]\n",
    "arr4=[27 ,56, 19, 14, 14, 10]\n",
    "출력=[\"######\", \"### #\", \"## ##\", \" #### \", \" #####\", \"### # \"]"
   ]
  },
  {
   "cell_type": "code",
   "execution_count": 281,
   "id": "2508b7c7",
   "metadata": {},
   "outputs": [
    {
     "name": "stdout",
     "output_type": "stream",
     "text": [
      "309 ns ± 2.11 ns per loop (mean ± std. dev. of 7 runs, 1000000 loops each)\n"
     ]
    }
   ],
   "source": [
    "'0b111010'[2:].replace('1','#').replace('00',\" \").replace('0',\" \").replace('2',\"#\")"
   ]
  },
  {
   "cell_type": "markdown",
   "id": "d9748c8e",
   "metadata": {},
   "source": [
    "해결법  \n",
    "\n",
    "2진법으로 이것 저것해보다가 더 하고 0 이외의 수는 #으로 치환하자는 해법이 나왔다. '1'만 #으로 하라는   "
   ]
  },
  {
   "cell_type": "code",
   "execution_count": 359,
   "id": "30c2baa0",
   "metadata": {},
   "outputs": [
    {
     "data": {
      "text/plain": [
       "['#####', '# # #', '### #', '# ##', '#####']"
      ]
     },
     "execution_count": 359,
     "metadata": {},
     "output_type": "execute_result"
    }
   ],
   "source": [
    "#성공은함\n",
    "arr1 = [9, 20, 28, 18, 11]\n",
    "arr2 = [30, 1, 21, 17, 28]\n",
    "buk1 =[]\n",
    "buk2 = []\n",
    "result = []\n",
    "re = []\n",
    "for i,v in enumerate(arr1):\n",
    "    buk1.append(bin(-v)[3:])\n",
    "    buk2.append(bin(arr2[i])[2:])\n",
    "for i,v in enumerate(buk):\n",
    "    result.append(int(v)+int(buk2[i]))\n",
    "for j in result:\n",
    "    re.append(str(j).replace('1','#').replace('00',\" \").replace('0',\" \").replace('2',\"#\"))\n",
    "re"
   ]
  },
  {
   "cell_type": "code",
   "execution_count": 357,
   "id": "320c1abf",
   "metadata": {},
   "outputs": [
    {
     "data": {
      "text/plain": [
       "['12012', '121100', '21111', '11120', '2121']"
      ]
     },
     "execution_count": 357,
     "metadata": {},
     "output_type": "execute_result"
    }
   ],
   "source": [
    "#두번째꺼 실패\n",
    "arr1=[46, 33, 33 ,22, 31, 50]\n",
    "arr2=[27 ,56, 19, 14, 14, 10]\n",
    "buk1 =[]\n",
    "buk2 = []\n",
    "result = []\n",
    "re = []\n",
    "for i,v in enumerate(arr1):\n",
    "    buk1.append(bin(-v)[3:])\n",
    "    buk2.append(bin(arr2[i])[2:])\n",
    "for i,v in enumerate(buk):\n",
    "    result.append(int(v)+int(buk2[i]))\n",
    "for j in result:\n",
    "    re.append(str(j))\n",
    "re"
   ]
  },
  {
   "cell_type": "code",
   "execution_count": 307,
   "id": "66f2e25d",
   "metadata": {},
   "outputs": [
    {
     "data": {
      "text/plain": [
       "['11110', '1', '10101', '10001', '11100']"
      ]
     },
     "execution_count": 307,
     "metadata": {},
     "output_type": "execute_result"
    }
   ],
   "source": [
    "arr2 = [30, 1, 21, 17, 28]\n",
    "buk =[]\n",
    "for i in arr2:\n",
    "    buk.append(bin(i)[2:])\n",
    "buk"
   ]
  },
  {
   "cell_type": "markdown",
   "id": "dfdeae28",
   "metadata": {},
   "source": [
    "문제점"
   ]
  },
  {
   "cell_type": "markdown",
   "id": "c7b7ecf1",
   "metadata": {},
   "source": [
    "진법 덧셈은 어떻게하지.... 문자열에서 정수로 변환만 가능하면 바로 풀릴 것 같은데 ..."
   ]
  }
 ],
 "metadata": {
  "kernelspec": {
   "display_name": "Python 3",
   "language": "python",
   "name": "python3"
  },
  "language_info": {
   "codemirror_mode": {
    "name": "ipython",
    "version": 3
   },
   "file_extension": ".py",
   "mimetype": "text/x-python",
   "name": "python",
   "nbconvert_exporter": "python",
   "pygments_lexer": "ipython3",
   "version": "3.8.8"
  }
 },
 "nbformat": 4,
 "nbformat_minor": 5
}
