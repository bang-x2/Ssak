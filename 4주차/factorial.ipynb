{
 "cells": [
  {
   "cell_type": "markdown",
   "id": "e905d25e",
   "metadata": {},
   "source": [
    "상근이는 보통 사람들이 사는 것과는 조금 다른 삶을 사는 사람이다.\n",
    "상근이는 이런 사람들의 시선이 부담스럽기 때문에, 자신만의 숫자를 개발하기로 했다.\n",
    "바로 그 이름은 팩토리얼 진법이다.\n",
    "팩토리얼 진법은 각 자리에 올 수 있는 숫자는 0부터 9까지로 10진법과 거의 비슷하다. \n",
    "하지만, 읽는 법은 조금 다르다. 팩토리얼 진법에서는 i번 자리의 값을 ai×i!로 계산한다. \n",
    "즉, 팩토리얼 진법에서 719는 10진법에서 53과 같다. 그 이유는 7×3! + 1×2! + 9×1! = 53이기 때문이다.\n",
    "\n",
    "팩토리얼 진법으로 작성한 숫자가 주어졌을 때, 10진법으로 읽은 값을 구하는 프로그램을 작성하시오. "
   ]
  },
  {
   "cell_type": "code",
   "execution_count": 1,
   "id": "e34204c2",
   "metadata": {},
   "outputs": [],
   "source": [
    "입력 = [719,1,15,110,102,0]\n",
    "출력 = [53,1,7,8,8]"
   ]
  },
  {
   "cell_type": "markdown",
   "id": "2236fdfc",
   "metadata": {},
   "source": [
    "자리수별로 100은 3! 10은 2! 1은 1!<br>  \n",
    "자리수별로 곱해 주고 더해준다.   "
   ]
  },
  {
   "cell_type": "markdown",
   "id": "c9ff4bfb",
   "metadata": {},
   "source": [
    "7×3! + 1×2! + 9×1! "
   ]
  },
  {
   "cell_type": "code",
   "execution_count": 2,
   "id": "2a0b8cf6",
   "metadata": {},
   "outputs": [
    {
     "data": {
      "text/plain": [
       "53"
      ]
     },
     "execution_count": 2,
     "metadata": {},
     "output_type": "execute_result"
    }
   ],
   "source": [
    "#첫번째 값이다.\n",
    "import math\n",
    "digit3 = (719//100,719%100) #100의 자리\n",
    "digit2_1 = (digit3[1]//10,digit3[1]%10) #10의자리 1의자리\n",
    "digit3[0]*math.factorial(3)+\\\n",
    "digit2_1[0]*math.factorial(2)+\\\n",
    "digit2_1[1]*math.factorial(1)"
   ]
  },
  {
   "cell_type": "markdown",
   "id": "019a7774",
   "metadata": {},
   "source": [
    "마지막 0은 값이 없으므로 pass"
   ]
  },
  {
   "cell_type": "code",
   "execution_count": 78,
   "id": "47daf809",
   "metadata": {},
   "outputs": [],
   "source": [
    "import math\n",
    "\n",
    "def f(self):\n",
    "    return math.factorial(self)\n",
    "def factorialbit(a):\n",
    "    result = []\n",
    "    for i in range(len(a)):\n",
    "        if a[i]==0:\n",
    "            continue\n",
    "        elif a[i] > 99:\n",
    "            hund = (a[i]%100,a[i]//100)\n",
    "            ten,one = hund[0]//10,hund[0]%10\n",
    "            result.append(hund[1]*f(3)+ten*f(2)+one*f(1))\n",
    "        elif 100 > a[i] > 9:\n",
    "            ten,one = a[i]//10,a[i]%10\n",
    "            result.append(ten*f(2)+one*f(1))           \n",
    "        elif 1<= a[i] <10:\n",
    "            one = a[i]*f(1)\n",
    "            result.append(one)\n",
    "    return result"
   ]
  },
  {
   "cell_type": "code",
   "execution_count": 79,
   "id": "7cf7b947",
   "metadata": {},
   "outputs": [
    {
     "data": {
      "text/plain": [
       "[53, 1, 7, 8, 8]"
      ]
     },
     "execution_count": 79,
     "metadata": {},
     "output_type": "execute_result"
    }
   ],
   "source": [
    "a = [719,1,15,110,102,0]\n",
    "factorialbit(a)"
   ]
  },
  {
   "cell_type": "code",
   "execution_count": null,
   "id": "706537b4",
   "metadata": {},
   "outputs": [],
   "source": []
  }
 ],
 "metadata": {
  "kernelspec": {
   "display_name": "Python 3",
   "language": "python",
   "name": "python3"
  },
  "language_info": {
   "codemirror_mode": {
    "name": "ipython",
    "version": 3
   },
   "file_extension": ".py",
   "mimetype": "text/x-python",
   "name": "python",
   "nbconvert_exporter": "python",
   "pygments_lexer": "ipython3",
   "version": "3.8.8"
  }
 },
 "nbformat": 4,
 "nbformat_minor": 5
}
