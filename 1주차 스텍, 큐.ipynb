{
 "cells": [
  {
   "cell_type": "code",
   "execution_count": 18,
   "id": "c59f4f13",
   "metadata": {},
   "outputs": [],
   "source": [
    "class Stack(list):\n",
    "    push = list.append\n",
    "    \n",
    "    def peek(self):\n",
    "        return self[-1] #self[len(self)-1]\n",
    "                       "
   ]
  },
  {
   "cell_type": "code",
   "execution_count": 19,
   "id": "bbd5d7ca",
   "metadata": {},
   "outputs": [],
   "source": [
    "s = Stack()"
   ]
  },
  {
   "cell_type": "code",
   "execution_count": 35,
   "id": "10c7667f",
   "metadata": {},
   "outputs": [],
   "source": [
    "s.push(1)\n",
    "s.push(5)\n",
    "s.push(10)"
   ]
  },
  {
   "cell_type": "code",
   "execution_count": 36,
   "id": "74863d5f",
   "metadata": {},
   "outputs": [
    {
     "name": "stdout",
     "output_type": "stream",
     "text": [
      "my stack is: [1, 5, 10]\n"
     ]
    }
   ],
   "source": [
    "print(\"my stack is:\",s)"
   ]
  },
  {
   "cell_type": "code",
   "execution_count": 37,
   "id": "21b5a1f6",
   "metadata": {},
   "outputs": [
    {
     "name": "stdout",
     "output_type": "stream",
     "text": [
      " popped value is: 10\n"
     ]
    }
   ],
   "source": [
    "print(' popped value is:',s.pop())"
   ]
  },
  {
   "cell_type": "code",
   "execution_count": 38,
   "id": "8db02282",
   "metadata": {},
   "outputs": [
    {
     "name": "stdout",
     "output_type": "stream",
     "text": [
      "my stack is: [1, 5]\n"
     ]
    }
   ],
   "source": [
    "print(\"my stack is:\",s)"
   ]
  },
  {
   "cell_type": "code",
   "execution_count": 39,
   "id": "cb25c5c9",
   "metadata": {},
   "outputs": [
    {
     "name": "stdout",
     "output_type": "stream",
     "text": [
      "peeked value is: 5\n"
     ]
    }
   ],
   "source": [
    "print(\"peeked value is:\",s.peek() ) # 보여주기만할뿐 추출하진않는다."
   ]
  },
  {
   "cell_type": "code",
   "execution_count": 40,
   "id": "718d6560",
   "metadata": {},
   "outputs": [
    {
     "name": "stdout",
     "output_type": "stream",
     "text": [
      "my stack is: [1, 5]\n"
     ]
    }
   ],
   "source": [
    "print(\"my stack is:\",s)"
   ]
  },
  {
   "cell_type": "code",
   "execution_count": 41,
   "id": "baad7077",
   "metadata": {},
   "outputs": [],
   "source": [
    "s = []\n",
    "s.append(1)"
   ]
  },
  {
   "cell_type": "code",
   "execution_count": 42,
   "id": "548e2c52",
   "metadata": {},
   "outputs": [],
   "source": [
    "s.append(5)\n",
    "s.append(10)"
   ]
  },
  {
   "cell_type": "code",
   "execution_count": 43,
   "id": "e3ab4b39",
   "metadata": {},
   "outputs": [
    {
     "name": "stdout",
     "output_type": "stream",
     "text": [
      "my stack is: [1, 5, 10]\n"
     ]
    }
   ],
   "source": [
    "print(\"my stack is:\",s)"
   ]
  },
  {
   "cell_type": "code",
   "execution_count": 44,
   "id": "861dad60",
   "metadata": {},
   "outputs": [
    {
     "name": "stdout",
     "output_type": "stream",
     "text": [
      " popped value is: 10\n"
     ]
    }
   ],
   "source": [
    "print(' popped value is:',s.pop())"
   ]
  },
  {
   "cell_type": "code",
   "execution_count": 45,
   "id": "3eca59a3",
   "metadata": {},
   "outputs": [
    {
     "name": "stdout",
     "output_type": "stream",
     "text": [
      "my stack is: [1, 5]\n"
     ]
    }
   ],
   "source": [
    "print(\"my stack is:\",s)"
   ]
  },
  {
   "cell_type": "code",
   "execution_count": 46,
   "id": "82b88a78",
   "metadata": {},
   "outputs": [
    {
     "name": "stdout",
     "output_type": "stream",
     "text": [
      "peeked value is: 5\n"
     ]
    }
   ],
   "source": [
    "print(\"peeked value is:\",s[-1] ) # 보여주기만할뿐 추출하진않는다."
   ]
  },
  {
   "cell_type": "code",
   "execution_count": 47,
   "id": "6304673e",
   "metadata": {},
   "outputs": [],
   "source": [
    "# 스택의 활용"
   ]
  },
  {
   "cell_type": "markdown",
   "id": "296861ee",
   "metadata": {},
   "source": [
    "인터넷의 이전페이지 다음페이지 클릭"
   ]
  },
  {
   "cell_type": "code",
   "execution_count": 48,
   "id": "e2bf5605",
   "metadata": {},
   "outputs": [],
   "source": [
    "#큐"
   ]
  },
  {
   "cell_type": "markdown",
   "id": "102ee973",
   "metadata": {},
   "source": [
    "영어로 Queue \"일이 처리되기를 기다리는 리스트\" 라는 의미 프로그래밍에서 목록 혹은 리스트에서 접근이 양쪽에서 가능한 구조로 FIFO(first-in, first-out)가 기본 원리\n",
    "\n",
    "put,peek,get"
   ]
  },
  {
   "cell_type": "code",
   "execution_count": 49,
   "id": "c085a4ca",
   "metadata": {},
   "outputs": [],
   "source": [
    "#직접 구현"
   ]
  },
  {
   "cell_type": "code",
   "execution_count": 50,
   "id": "792fd12c",
   "metadata": {},
   "outputs": [],
   "source": [
    "class Queue(list):\n",
    "    put = list.append\n",
    "    \n",
    "    def peek(self):\n",
    "        return self[0]\n",
    "    def get(self):\n",
    "        return self.pop(0)"
   ]
  },
  {
   "cell_type": "code",
   "execution_count": 51,
   "id": "4ae18f3e",
   "metadata": {},
   "outputs": [],
   "source": [
    "q = Queue()"
   ]
  },
  {
   "cell_type": "code",
   "execution_count": 53,
   "id": "78bb1265",
   "metadata": {},
   "outputs": [],
   "source": [
    "q.put(1)\n",
    "q.put(5)\n",
    "q.put(10)"
   ]
  },
  {
   "cell_type": "code",
   "execution_count": 54,
   "id": "37018621",
   "metadata": {},
   "outputs": [
    {
     "name": "stdout",
     "output_type": "stream",
     "text": [
      "my queue is: [1, 5, 1, 5, 10]\n"
     ]
    }
   ],
   "source": [
    "print(\"my queue is:\",q)"
   ]
  },
  {
   "cell_type": "code",
   "execution_count": 55,
   "id": "893816bc",
   "metadata": {},
   "outputs": [
    {
     "name": "stdout",
     "output_type": "stream",
     "text": [
      "removed value is: 1\n"
     ]
    }
   ],
   "source": [
    "print(\"removed value is:\",q.get())"
   ]
  },
  {
   "cell_type": "code",
   "execution_count": 56,
   "id": "4378ff65",
   "metadata": {},
   "outputs": [
    {
     "name": "stdout",
     "output_type": "stream",
     "text": [
      "my queue is: [5, 1, 5, 10]\n"
     ]
    }
   ],
   "source": [
    "print(\"my queue is:\",q)"
   ]
  },
  {
   "cell_type": "code",
   "execution_count": 57,
   "id": "822c8672",
   "metadata": {},
   "outputs": [
    {
     "name": "stdout",
     "output_type": "stream",
     "text": [
      "peeked value is: 5\n"
     ]
    }
   ],
   "source": [
    "print(\"peeked value is:\",q.peek() ) # 보여주기만할뿐 추출하진않는다."
   ]
  },
  {
   "cell_type": "code",
   "execution_count": 70,
   "id": "e3e5cc72",
   "metadata": {},
   "outputs": [
    {
     "name": "stdout",
     "output_type": "stream",
     "text": [
      "my queue is: <queue.Queue object at 0x000001EFCB886AC0>\n"
     ]
    }
   ],
   "source": [
    "print(\"my queue is:\",q)"
   ]
  },
  {
   "cell_type": "code",
   "execution_count": 1,
   "id": "24c8e0a7",
   "metadata": {},
   "outputs": [],
   "source": [
    "from queue import Queue"
   ]
  },
  {
   "cell_type": "code",
   "execution_count": 2,
   "id": "6dfd1532",
   "metadata": {},
   "outputs": [],
   "source": [
    "q = Queue()"
   ]
  },
  {
   "cell_type": "code",
   "execution_count": 3,
   "id": "1e3e7282",
   "metadata": {},
   "outputs": [],
   "source": [
    "q.put(1)\n",
    "q.put(5)\n",
    "q.put(10)"
   ]
  },
  {
   "cell_type": "code",
   "execution_count": 4,
   "id": "85b23f60",
   "metadata": {},
   "outputs": [
    {
     "name": "stdout",
     "output_type": "stream",
     "text": [
      "<queue.Queue object at 0x000001134D322670>\n"
     ]
    }
   ],
   "source": [
    "print(q)"
   ]
  },
  {
   "cell_type": "code",
   "execution_count": 5,
   "id": "39728e21",
   "metadata": {},
   "outputs": [],
   "source": [
    "#list를 큐로 활용"
   ]
  },
  {
   "cell_type": "code",
   "execution_count": 6,
   "id": "104468d6",
   "metadata": {},
   "outputs": [],
   "source": [
    "q = []\n",
    "q.append(1)\n",
    "q.append(5)\n",
    "q.append(10)"
   ]
  },
  {
   "cell_type": "code",
   "execution_count": 7,
   "id": "49500715",
   "metadata": {},
   "outputs": [
    {
     "data": {
      "text/plain": [
       "[1, 5, 10]"
      ]
     },
     "execution_count": 7,
     "metadata": {},
     "output_type": "execute_result"
    }
   ],
   "source": [
    "q #q에 담은 원소들"
   ]
  },
  {
   "cell_type": "code",
   "execution_count": 8,
   "id": "8ab851d7",
   "metadata": {},
   "outputs": [
    {
     "data": {
      "text/plain": [
       "10"
      ]
     },
     "execution_count": 8,
     "metadata": {},
     "output_type": "execute_result"
    }
   ],
   "source": [
    "q.pop() #q 리스트에서 마지막에 담았던 10을 뺀다(삭제)."
   ]
  },
  {
   "cell_type": "code",
   "execution_count": 9,
   "id": "e798471b",
   "metadata": {},
   "outputs": [
    {
     "data": {
      "text/plain": [
       "1"
      ]
     },
     "execution_count": 9,
     "metadata": {},
     "output_type": "execute_result"
    }
   ],
   "source": [
    "q[0] #맨 첫번째 인덱스를 보여준다"
   ]
  },
  {
   "cell_type": "code",
   "execution_count": 10,
   "id": "94f2eb3b",
   "metadata": {},
   "outputs": [
    {
     "data": {
      "text/plain": [
       "[1, 5]"
      ]
     },
     "execution_count": 10,
     "metadata": {},
     "output_type": "execute_result"
    }
   ],
   "source": [
    "q #리스트의 상태"
   ]
  },
  {
   "cell_type": "code",
   "execution_count": null,
   "id": "cf212caa",
   "metadata": {},
   "outputs": [],
   "source": []
  }
 ],
 "metadata": {
  "kernelspec": {
   "display_name": "Python 3",
   "language": "python",
   "name": "python3"
  },
  "language_info": {
   "codemirror_mode": {
    "name": "ipython",
    "version": 3
   },
   "file_extension": ".py",
   "mimetype": "text/x-python",
   "name": "python",
   "nbconvert_exporter": "python",
   "pygments_lexer": "ipython3",
   "version": "3.8.11"
  }
 },
 "nbformat": 4,
 "nbformat_minor": 5
}
