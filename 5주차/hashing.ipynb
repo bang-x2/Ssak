{
 "cells": [
  {
   "cell_type": "code",
   "execution_count": 7,
   "id": "4297fc48",
   "metadata": {},
   "outputs": [],
   "source": [
    "import string\n",
    "\n",
    "def hashing(alp):\n",
    "    buk = []\n",
    "    h = dict()\n",
    "    for i,v in enumerate(string.ascii_lowercase):\n",
    "        h[v] = i+1\n",
    "    for j,s in enumerate(alp):\n",
    "        buk.append((h[s])*(31**j))\n",
    "    return(sum(buk))"
   ]
  },
  {
   "cell_type": "code",
   "execution_count": 9,
   "id": "972beab4",
   "metadata": {},
   "outputs": [
    {
     "data": {
      "text/plain": [
       "9"
      ]
     },
     "execution_count": 9,
     "metadata": {},
     "output_type": "execute_result"
    }
   ],
   "source": [
    "hashing('i')"
   ]
  },
  {
   "cell_type": "code",
   "execution_count": null,
   "id": "4f82239e",
   "metadata": {},
   "outputs": [],
   "source": []
  }
 ],
 "metadata": {
  "kernelspec": {
   "display_name": "Python 3 (ipykernel)",
   "language": "python",
   "name": "python3"
  },
  "language_info": {
   "codemirror_mode": {
    "name": "ipython",
    "version": 3
   },
   "file_extension": ".py",
   "mimetype": "text/x-python",
   "name": "python",
   "nbconvert_exporter": "python",
   "pygments_lexer": "ipython3",
   "version": "3.8.8"
  }
 },
 "nbformat": 4,
 "nbformat_minor": 5
}
