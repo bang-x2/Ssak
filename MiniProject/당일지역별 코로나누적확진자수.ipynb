{
 "cells": [
  {
   "cell_type": "code",
   "execution_count": 1,
   "id": "8c1355e1",
   "metadata": {},
   "outputs": [],
   "source": [
    "# 라이붜리\n",
    "import time\n",
    "from selenium import webdriver\n",
    "import re\n",
    "from bs4 import BeautifulSoup\n",
    "import unicodedata\n",
    "import pandas as pd # 저장할때"
   ]
  },
  {
   "cell_type": "code",
   "execution_count": 3,
   "id": "ecce18e2",
   "metadata": {},
   "outputs": [],
   "source": [
    "#\n",
    "driver = webdriver.Chrome(\"./chromedriver.exe\")\n",
    "time.sleep(1)\n",
    "\n",
    "driver.get('https://www.naver.com/')\n",
    "time.sleep(2)\n",
    "\n",
    "search = '코로나현황'   \n",
    "# input_id = driver.find_elements_by_css_selector('input_text')\n",
    "# input_id.clear()\n",
    "element = driver.find_element_by_name('query')\n",
    "element.send_keys(search)\n",
    "element.submit()\n",
    "time.sleep(2)\n",
    "\n",
    "#클릭하기\n",
    "def select_first(driver):\n",
    "    first = driver.find_elements_by_css_selector('#_cs_production_type > div > div:nth-child(4) > div > div.info_top > div > div > div > ul > li:nth-child(1) > a > span')[0]\n",
    "    first.click()\n",
    "    time.sleep(2)\n",
    "    \n",
    "select_first(driver)"
   ]
  },
  {
   "cell_type": "code",
   "execution_count": 4,
   "id": "97a8c334",
   "metadata": {},
   "outputs": [],
   "source": [
    "#① 현재 페이지 html 정보 가져오기\n",
    "html = driver.page_source\n",
    "soup = BeautifulSoup(html, 'html.parser')"
   ]
  },
  {
   "cell_type": "code",
   "execution_count": 5,
   "id": "c7fc8c43",
   "metadata": {},
   "outputs": [
    {
     "name": "stdout",
     "output_type": "stream",
     "text": [
      "20\n",
      "20\n"
     ]
    }
   ],
   "source": [
    "#지역 개수\n",
    "print(len(soup.select('strong.local_name')))\n",
    "\n",
    "#누적 수치 개수\n",
    "print(len(soup.select('p.population_number')))"
   ]
  },
  {
   "cell_type": "code",
   "execution_count": 6,
   "id": "816358fb",
   "metadata": {},
   "outputs": [
    {
     "name": "stdout",
     "output_type": "stream",
     "text": [
      "['5,738', '2,494', '76,245', '11,305', '3,920', '3,920', '6,802', '10,999', '13,192', '5,242', '68,158', '2,479', '4,953', '6,547', '6,547', '5,413', '944', '3,396', '9,615', '3,997']\n"
     ]
    }
   ],
   "source": [
    "# ② 본문 내용 가져오기\n",
    "#지역별 누적 인구수\n",
    "population_number = []\n",
    "for i in range(20):\n",
    "    population_number.append(soup.select('p.population_number')[i].text)\n",
    "print(population_number)"
   ]
  },
  {
   "cell_type": "code",
   "execution_count": 7,
   "id": "e174e999",
   "metadata": {},
   "outputs": [
    {
     "name": "stdout",
     "output_type": "stream",
     "text": [
      "['검역자세히', '제주', '서울', '인천', '광주', '광주', '경북', '부산', '대구', '강원', '경기', '전남', '충북', '충남', '충남', '대전', '세종', '전북', '경남', '울산']\n"
     ]
    }
   ],
   "source": [
    "#지역별 누적 인구수\n",
    "local_name = []\n",
    "for i in range(20):\n",
    "    local_name.append(soup.select('strong.local_name')[i].text)\n",
    "print(local_name)"
   ]
  },
  {
   "cell_type": "code",
   "execution_count": 8,
   "id": "acf3d6cc",
   "metadata": {},
   "outputs": [
    {
     "data": {
      "text/plain": [
       "[['검역자세히', '5,738'],\n",
       " ['제주', '2,494'],\n",
       " ['서울', '76,245'],\n",
       " ['인천', '11,305'],\n",
       " ['광주', '3,920'],\n",
       " ['광주', '3,920'],\n",
       " ['경북', '6,802'],\n",
       " ['부산', '10,999'],\n",
       " ['대구', '13,192'],\n",
       " ['강원', '5,242'],\n",
       " ['경기', '68,158'],\n",
       " ['전남', '2,479'],\n",
       " ['충북', '4,953'],\n",
       " ['충남', '6,547'],\n",
       " ['충남', '6,547'],\n",
       " ['대전', '5,413'],\n",
       " ['세종', '944'],\n",
       " ['전북', '3,396'],\n",
       " ['경남', '9,615'],\n",
       " ['울산', '3,997']]"
      ]
     },
     "execution_count": 8,
     "metadata": {},
     "output_type": "execute_result"
    }
   ],
   "source": [
    "result=[[i,v] for i,v in zip(local_name,population_number)]\n",
    "result"
   ]
  },
  {
   "cell_type": "code",
   "execution_count": 9,
   "id": "2b91732e",
   "metadata": {},
   "outputs": [],
   "source": [
    "#크롤링 결과 저장하기\n",
    "results_df = pd.DataFrame(result)\n",
    "results_df.columns = ['지역','누적 인구']\n",
    "results_df.to_excel('../미니프로젝트/코로나 지역별 누적인구.xlsx',index=False)"
   ]
  },
  {
   "cell_type": "code",
   "execution_count": null,
   "id": "184794b3",
   "metadata": {},
   "outputs": [],
   "source": []
  }
 ],
 "metadata": {
  "kernelspec": {
   "display_name": "Python 3",
   "language": "python",
   "name": "python3"
  },
  "language_info": {
   "codemirror_mode": {
    "name": "ipython",
    "version": 3
   },
   "file_extension": ".py",
   "mimetype": "text/x-python",
   "name": "python",
   "nbconvert_exporter": "python",
   "pygments_lexer": "ipython3",
   "version": "3.8.11"
  }
 },
 "nbformat": 4,
 "nbformat_minor": 5
}
