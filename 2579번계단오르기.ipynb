{
 "cells": [
  {
   "cell_type": "code",
   "execution_count": 52,
   "id": "924f5fbb",
   "metadata": {},
   "outputs": [],
   "source": [
    "def solution(data):\n",
    "    result = [0 for i in range(len(data))]\n",
    "    result[0],result[1],result[2]= [data[0], max(data[0] + data[1],data[0]+data[2]),max(data[1] + data[2],data[1]+data[3])]\n",
    "    for i in range(3,len(data)):\n",
    "        result[i] = max(result[i-3],result[i-1],result[i], result[i-2]+data[i])\n",
    "    return result[-1]"
   ]
  },
  {
   "cell_type": "code",
   "execution_count": 53,
   "id": "57da9f0c",
   "metadata": {},
   "outputs": [
    {
     "data": {
      "text/plain": [
       "75"
      ]
     },
     "execution_count": 53,
     "metadata": {},
     "output_type": "execute_result"
    }
   ],
   "source": [
    "data = [6,10,20,15,25,10,20]\n",
    "solution(data)"
   ]
  }
 ],
 "metadata": {
  "kernelspec": {
   "display_name": "Python 3 (ipykernel)",
   "language": "python",
   "name": "python3"
  },
  "language_info": {
   "codemirror_mode": {
    "name": "ipython",
    "version": 3
   },
   "file_extension": ".py",
   "mimetype": "text/x-python",
   "name": "python",
   "nbconvert_exporter": "python",
   "pygments_lexer": "ipython3",
   "version": "3.8.8"
  }
 },
 "nbformat": 4,
 "nbformat_minor": 5
}
